{
 "cells": [
  {
   "cell_type": "code",
   "execution_count": 18,
   "metadata": {},
   "outputs": [],
   "source": [
    "from bs4 import BeautifulSoup as bs\n",
    "from urllib.request import urlopen as uReq\n",
    "import requests"
   ]
  },
  {
   "cell_type": "code",
   "execution_count": 155,
   "metadata": {},
   "outputs": [
    {
     "data": {
      "text/plain": [
       "'https://www.flipkart.com/search?q=sumsongm13'"
      ]
     },
     "execution_count": 155,
     "metadata": {},
     "output_type": "execute_result"
    }
   ],
   "source": [
    "# import requests\n",
    "searchString = \"sumsong m13\"\n",
    "searchString=searchString.replace(\" \",\"\")\n",
    "flipkart_url = \"https://www.flipkart.com/search?q=\" + searchString\n",
    "flipkart_url"
   ]
  },
  {
   "cell_type": "code",
   "execution_count": 156,
   "metadata": {},
   "outputs": [
    {
     "data": {
      "text/plain": [
       "<http.client.HTTPResponse at 0x1c71bdd0ac0>"
      ]
     },
     "execution_count": 156,
     "metadata": {},
     "output_type": "execute_result"
    }
   ],
   "source": [
    "uClient = uReq(flipkart_url)\n",
    "flipkartPage = uClient.read()\n",
    "uClient.close()"
   ]
  },
  {
   "cell_type": "code",
   "execution_count": 157,
   "metadata": {},
   "outputs": [],
   "source": [
    "flipkartPage = uClient.read()\n",
    "uClient.close()"
   ]
  },
  {
   "cell_type": "code",
   "execution_count": 158,
   "metadata": {},
   "outputs": [],
   "source": [
    "flipkart_html = bs(flipkartPage, \"html.parser\")\n"
   ]
  },
  {
   "cell_type": "code",
   "execution_count": 159,
   "metadata": {},
   "outputs": [],
   "source": [
    "bigboxes = flipkart_html.findAll(\"div\", {\"class\": \"_1AtVbE col-12-12\"})"
   ]
  },
  {
   "cell_type": "code",
   "execution_count": 160,
   "metadata": {},
   "outputs": [],
   "source": [
    "del bigboxes[0:3]"
   ]
  },
  {
   "cell_type": "code",
   "execution_count": 161,
   "metadata": {},
   "outputs": [
    {
     "data": {
      "text/plain": [
       "<div class=\"_1AtVbE col-12-12\"><div class=\"_13oc-S\"><div data-id=\"MOBGHDXFDVNHFVVF\" style=\"width:100%\"><div class=\"_2kHMtA\"><a class=\"_1fQZEK\" href=\"/samsung-galaxy-m13-5g-stardust-brown-64-gb/p/itme2985eca0e817?pid=MOBGHDXFDVNHFVVF&amp;lid=LSTMOBGHDXFDVNHFVVFZR1YOB&amp;marketplace=FLIPKART&amp;q=sumsongm13&amp;store=tyy%2F4io&amp;srno=s_1_2&amp;otracker=search&amp;fm=organic&amp;iid=ea447539-1c3e-4c8c-a039-240c18b7f3cb.MOBGHDXFDVNHFVVF.SEARCH&amp;ppt=None&amp;ppn=None&amp;ssid=ql9wanln400000001690817985575&amp;qH=c4ca72341a9b2712\" rel=\"noopener noreferrer\" target=\"_blank\"><div class=\"MIXNux\"><div class=\"_2QcLo-\"><div><div class=\"CXW8mj\" style=\"height:200px;width:200px\"><img alt=\"SAMSUNG GALAXY M13 5G (Stardust Brown, 64 GB)\" class=\"_396cs4\" loading=\"eager\" src=\"https://rukminim2.flixcart.com/image/312/312/xif0q/mobile/j/6/n/-original-imagghbz5jffndyy.jpeg?q=70\"/></div></div></div><div class=\"_3wLduG\"><div class=\"_3PzNI-\"><span class=\"f3A4_V\"><label class=\"_2iDkf8\"><input class=\"_30VH1S\" readonly=\"\" type=\"checkbox\"/><div class=\"_24_Dny\"></div></label></span><label class=\"_6Up2sF\"><span>Add to Compare</span></label></div></div><div class=\"_2hVSre _3nq8ih\"><div class=\"_36FSn5\"><svg class=\"_1l0elc\" height=\"16\" viewbox=\"0 0 20 16\" width=\"16\" xmlns=\"http://www.w3.org/2000/svg\"><path class=\"eX72wL\" d=\"M8.695 16.682C4.06 12.382 1 9.536 1 6.065 1 3.219 3.178 1 5.95 1c1.566 0 3.069.746 4.05 1.915C10.981 1.745 12.484 1 14.05 1 16.822 1 19 3.22 19 6.065c0 3.471-3.06 6.316-7.695 10.617L10 17.897l-1.305-1.215z\" fill=\"#2874F0\" fill-rule=\"evenodd\" opacity=\".9\" stroke=\"#FFF\"></path></svg></div></div></div><div class=\"_3pLy-c row\"><div class=\"col col-7-12\"><div class=\"_4rR01T\">SAMSUNG GALAXY M13 5G (Stardust Brown, 64 GB)</div><div class=\"gUuXy-\"><span class=\"_1lRcqv\" id=\"productRating_LSTMOBGHDXFDVNHFVVFZR1YOB_MOBGHDXFDVNHFVVF_\"><div class=\"_3LWZlK\">4.1<img class=\"_1wB99o\" src=\"data:image/svg+xml;base64,PHN2ZyB4bWxucz0iaHR0cDovL3d3dy53My5vcmcvMjAwMC9zdmciIHdpZHRoPSIxMyIgaGVpZ2h0PSIxMiI+PHBhdGggZmlsbD0iI0ZGRiIgZD0iTTYuNSA5LjQzOWwtMy42NzQgMi4yMy45NC00LjI2LTMuMjEtMi44ODMgNC4yNTQtLjQwNEw2LjUuMTEybDEuNjkgNC4wMSA0LjI1NC40MDQtMy4yMSAyLjg4Mi45NCA0LjI2eiIvPjwvc3ZnPg==\"/></div></span><span class=\"_2_R_DZ\"><span><span>1,007 Ratings </span><span class=\"_13vcmD\">&amp;</span><span> 58 Reviews</span></span></span></div><div class=\"fMghEO\"><ul class=\"_1xgFaf\"><li class=\"rgWa7D\">4 GB RAM | 64 GB ROM</li><li class=\"rgWa7D\">16.51 cm (6.5 inch) Display</li><li class=\"rgWa7D\">50MP Rear Camera</li><li class=\"rgWa7D\">5000 mAh Battery</li><li class=\"rgWa7D\">12 Months Warranty</li></ul></div></div><div class=\"col col-5-12 nlI3QM\"><div class=\"_3tbKJL\"><div class=\"_25b18c\"><div class=\"_30jeq3 _1_WHN1\">₹14,999</div></div><div class=\"_3tcB5a p8ucoS\"><div><div class=\"_2Tpdn3\" style=\"color:#000000;font-size:12px;font-weight:400\">Free delivery by</div><div class=\"_2Tpdn3\" style=\"color:#000000;font-size:12px;font-style:normal;font-weight:700\"> Today</div></div></div></div><div class=\"_13J9qT\"><img height=\"21\" src=\"//static-assets-web.flixcart.com/fk-p-linchpin-web/fk-cp-zion/img/fa_62673a.png\"/></div><div class=\"_2ZdXDB\"><div class=\"_3xFhiH\"><div class=\"_2Tpdn3 _18hQoS\" style=\"color:#26A541;font-size:14px;font-weight:700\">Bank Offer</div></div></div></div></div></a></div></div></div></div>"
      ]
     },
     "execution_count": 161,
     "metadata": {},
     "output_type": "execute_result"
    }
   ],
   "source": [
    "box =bigboxes[0]\n",
    "box"
   ]
  },
  {
   "cell_type": "code",
   "execution_count": 16,
   "metadata": {},
   "outputs": [
    {
     "data": {
      "text/plain": [
       "'/samsung-galaxy-m13-stardust-brown-128-gb/p/itmb1902f24653db?pid=MOBGHDXFGQA4TXBZ&lid=LSTMOBGHDXFGQA4TXBZVOB3YT&marketplace=FLIPKART&q=sumsongm13&store=tyy%2F4io&srno=s_1_2&otracker=search&fm=organic&iid=59eef5cf-3f0d-4d9a-a4d6-9b5589351ac6.MOBGHDXFGQA4TXBZ.SEARCH&ppt=None&ppn=None&ssid=dcqlj5nda80000001690807257065&qH=c4ca72341a9b2712'"
      ]
     },
     "execution_count": 16,
     "metadata": {},
     "output_type": "execute_result"
    }
   ],
   "source": [
    "box.div.div.div.a['href']"
   ]
  },
  {
   "cell_type": "code",
   "execution_count": 17,
   "metadata": {},
   "outputs": [
    {
     "data": {
      "text/plain": [
       "'https://www.flipkart.com/samsung-galaxy-m13-stardust-brown-128-gb/p/itmb1902f24653db?pid=MOBGHDXFGQA4TXBZ&lid=LSTMOBGHDXFGQA4TXBZVOB3YT&marketplace=FLIPKART&q=sumsongm13&store=tyy%2F4io&srno=s_1_2&otracker=search&fm=organic&iid=59eef5cf-3f0d-4d9a-a4d6-9b5589351ac6.MOBGHDXFGQA4TXBZ.SEARCH&ppt=None&ppn=None&ssid=dcqlj5nda80000001690807257065&qH=c4ca72341a9b2712'"
      ]
     },
     "execution_count": 17,
     "metadata": {},
     "output_type": "execute_result"
    }
   ],
   "source": [
    "productLink = \"https://www.flipkart.com\" + box.div.div.div.a['href']\n",
    "productLink"
   ]
  },
  {
   "cell_type": "code",
   "execution_count": 64,
   "metadata": {},
   "outputs": [
    {
     "data": {
      "text/plain": [
       "'https://www.flipkart.com/samsung-galaxy-m13-stardust-brown-128-gb/product-reviews/itmb1902f24653db?pid=MOBGHDXFGQA4TXBZ&lid=LSTMOBGHDXFGQA4TXBZVOB3YT&marketplace=FLIPKART'"
      ]
     },
     "execution_count": 64,
     "metadata": {},
     "output_type": "execute_result"
    }
   ],
   "source": [
    "prodRes = requests.get(productLink)\n",
    "prodRes.encoding='utf-8'\n",
    "prod_html = bs(prodRes.text, \"html.parser\")\n",
    "reviews =prod_html.find_all('div',{'class','col JOpGWq'})\n",
    "reviews=reviews[0].find_all('a',{\"class\":\"\"})[-1]\n",
    "reviewpage=\"https://www.flipkart.com\"+reviews[\"href\"]\n",
    "reviewpage"
   ]
  },
  {
   "cell_type": "code",
   "execution_count": 152,
   "metadata": {},
   "outputs": [
    {
     "data": {
      "text/plain": [
       "<!DOCTYPE html>\n",
       "<html lang=\"en\"><head><link href=\"https://rukminim2.flixcart.com\" rel=\"preconnect\"/><link href=\"//static-assets-web.flixcart.com/fk-p-linchpin-web/fk-cp-zion/css/app_modules.chunk.905c37.css\" rel=\"stylesheet\"/><link href=\"//static-assets-web.flixcart.com/fk-p-linchpin-web/fk-cp-zion/css/app.chunk.5ffd15.css\" rel=\"stylesheet\"/><meta content=\"text/html; charset=utf-8\" http-equiv=\"Content-type\"/><meta content=\"IE=Edge\" http-equiv=\"X-UA-Compatible\"/><meta content=\"102988293558\" property=\"fb:page_id\"/><meta content=\"658873552,624500995,100000233612389\" property=\"fb:admins\"/><meta content=\"noodp\" name=\"robots\"/><link href=\"https:///www/promos/new/20150528-140547-favicon-retina.ico\" rel=\"shortcut icon\"/><link href=\"/osdd.xml?v=2\" rel=\"search\" type=\"application/opensearchdescription+xml\"/><meta content=\"website\" property=\"og:type\"/><meta content=\"Flipkart.com\" name=\"og_site_name\" property=\"og:site_name\"/><link href=\"/apple-touch-icon-57x57.png\" rel=\"apple-touch-icon\" sizes=\"57x57\"/><link href=\"/apple-touch-icon-72x72.png\" rel=\"apple-touch-icon\" sizes=\"72x72\"/><link href=\"/apple-touch-icon-114x114.png\" rel=\"apple-touch-icon\" sizes=\"114x114\"/><link href=\"/apple-touch-icon-144x144.png\" rel=\"apple-touch-icon\" sizes=\"144x144\"/><link href=\"/apple-touch-icon-57x57.png\" rel=\"apple-touch-icon\"/><meta content=\"app\" name=\"twitter:card\"/><meta content=\"@flipkart\" name=\"twitter:site\"/><meta content=\"@flipkart\" name=\"twitter:creator\"/><meta content=\"Samsung Galaxy M13 Stardust Brown 128 Gb Reviews: Latest Review of Samsung Galaxy M13 Stardust Brown 128 Gb | Price in India | Flipkart.com\" name=\"twitter:title\"/><meta content=\"Shop for electronics, apparels &amp; more using our Flipkart app Free shipping &amp; COD.\" name=\"twitter:description\"/><meta content=\"in\" name=\"twitter:app:country\"/><meta content=\"Flipkart\" name=\"al:ios:app_name\"/><meta content=\"742044692\" name=\"al:ios:app_store_id\"/><meta content=\"Flipkart\" name=\"twitter:app:name:iphone\"/><meta content=\"742044692\" name=\"twitter:app:id:iphone\"/><meta content=\"http://dl.flipkart.com/dl/home?\" name=\"twitter:app:url:iphone\"/><meta content=\"Flipkart\" name=\"twitter:app:name:ipad\"/><meta content=\"742044692\" name=\"twitter:app:id:ipad\"/><meta content=\"http://dl.flipkart.com/dl/home?\" name=\"twitter:app:url:ipad\"/><meta content=\"Flipkart\" name=\"twitter:app:name:googleplay\"/><meta content=\"com.flipkart.android\" name=\"twitter:app:id:googleplay\"/><meta content=\"http://dl.flipkart.com/dl/home?\" name=\"twitter:app:url:googleplay\"/><style>#container {\n",
       "\t\t\theight: 100%;\n",
       "\t\t}</style> <link href=\"///fk-cp-zion/css/AllReviewsPage.chunk.d28dfc.css\" rel=\"stylesheet\"/><title>Samsung Galaxy M13 Stardust Brown 128 Gb Reviews: Latest Review of Samsung Galaxy M13 Stardust Brown 128 Gb | Price in India | Flipkart.com</title><meta content=\"Samsung Galaxy M13 Stardust Brown 128 Gb Reviews: Latest Review of Samsung Galaxy M13 Stardust Brown 128 Gb | Price in India | Flipkart.com\" name=\"og_title\" property=\"og:title\"><meta content=\"Samsung Galaxy M13 Stardust Brown 128 Gb Reviews\" name=\"Keywords\"> <meta content=\"Read Latest Reviews of Samsung Galaxy M13 Stardust Brown 128 Gb on Flipkart.com. Find genuine customer reviews and ratings. Buy Samsung Galaxy M13 Stardust Brown 128 Gb at best prices on Flipkart.com.\" name=\"Description\"><meta content=\"Read Latest Reviews of Samsung Galaxy M13 Stardust Brown 128 Gb on Flipkart.com. Find genuine customer reviews and ratings. Buy Samsung Galaxy M13 Stardust Brown 128 Gb at best prices on Flipkart.com.\" property=\"og:description\"> <meta content=\"F4EEB3A0AFFDD385992A06E6920C0AC3\" name=\"msvalidate.01\"> <!--[if IE 9 ]>\n",
       "\t<script nonce=\"17476920193020823797\">\n",
       "\t\twindow.browserVersion = 'IE9';\n",
       "\t\tdocument.documentElement.className += ' ie9';\n",
       "\t</script>\n",
       "\t<![endif]--><!--[if !IE]><!--><script nonce=\"17476920193020823797\">if (/*@cc_on!@*/false) {\n",
       "\t\t\twindow.browserVersion = 'IE10';\n",
       "\t\t\tdocument.documentElement.className += ' ie10';\n",
       "\t\t}</script><!--<![endif]--> <script nonce=\"17476920193020823797\">!function(){if(\"PerformancePaintTiming\" in window){var e=window.__perf={e:[]};e.o=new PerformanceObserver(function(n){e.e=e.e.concat(n.getEntries())});try{e.o.observe({entryTypes:[\"paint\"]})}catch(e){}}}();\n",
       "\n",
       "\t\tif (requestAnimationFrame && performance && performance.mark) {\n",
       "\t\t\trequestAnimationFrame(function () {\n",
       "\t\t\t\twindow.first_paint = performance.now();\n",
       "\t\t\t\tperformance.mark(\"first_paint\");\n",
       "\t\t\t});\n",
       "\t\t}\n",
       "\n",
       "        // web-vitals polyfill for FID\n",
       "        !function(n,e){var t,o,i,c=[],f={passive:!0,capture:!0},r=new Date,a=\"pointerup\",u=\"pointercancel\";function p(n,c){t||(t=c,o=n,i=new Date,w(e),s())}function s(){o>=0&&o<i-r&&(c.forEach(function(n){n(o,t)}),c=[])}function l(t){if(t.cancelable){var o=(t.timeStamp>1e12?new Date:performance.now())-t.timeStamp;\"pointerdown\"==t.type?function(t,o){function i(){p(t,o),r()}function c(){r()}function r(){e(a,i,f),e(u,c,f)}n(a,i,f),n(u,c,f)}(o,t):p(o,t)}}function w(n){[\"click\",\"mousedown\",\"keydown\",\"touchstart\",\"pointerdown\"].forEach(function(e){n(e,l,f)})}w(n),self.perfMetrics=self.perfMetrics||{},self.perfMetrics.onFirstInputDelay=function(n){c.push(n),s()}}(addEventListener,removeEventListener);</script><script async=\"\" src=\"https://www.googletagmanager.com/gtag/js?id=AW-594691041\"></script><script nonce=\"17476920193020823797\">window.dataLayer = window.dataLayer || [];\n",
       "\t\tfunction gtag(){dataLayer.push(arguments)};\n",
       "\t\tgtag('js', new Date());</script></meta></meta></meta></meta></meta></head><body><div id=\"container\"><div><div class=\"_1kfTjk\"><div class=\"_1rH5Jn\"><div class=\"_1TmfNK\"></div><div class=\"_2Xfa2_\"><div class=\"_3_C9Hx\"><div class=\"_3qX0zy\"><a href=\"/\"><img alt=\"Flipkart\" class=\"_2xm1JU\" src=\"//static-assets-web.flixcart.com/fk-p-linchpin-web/fk-cp-zion/img/flipkart-plus_8d85f4.png\" title=\"Flipkart\" width=\"75\"/></a><a class=\"_21ljIi\" href=\"/plus\">Explore<!-- --> <span class=\"_2FVHGh\">Plus</span><img src=\"//static-assets-web.flixcart.com/fk-p-linchpin-web/fk-cp-zion/img/plus_aef861.png\" width=\"10\"/></a></div></div><div class=\"_1cmsER\"><form action=\"/search\" class=\"_2M8cLY header-form-search\" method=\"GET\"><div class=\"col-12-12 _2oO9oE\"><div class=\"_3OO5Xc\"><input autocomplete=\"off\" class=\"_3704LK\" name=\"q\" placeholder=\"Search for products, brands and more\" title=\"Search for products, brands and more\" type=\"text\" value=\"\"/></div><button class=\"L0Z3Pu\" type=\"submit\"><svg class=\"\" height=\"20\" viewbox=\"0 0 17 18\" width=\"20\" xmlns=\"http://www.w3.org/2000/svg\"><g fill=\"#2874F1\" fill-rule=\"evenodd\"><path class=\"_34RNph\" d=\"m11.618 9.897l4.225 4.212c.092.092.101.232.02.313l-1.465 1.46c-.081.081-.221.072-.314-.02l-4.216-4.203\"></path><path class=\"_34RNph\" d=\"m6.486 10.901c-2.42 0-4.381-1.956-4.381-4.368 0-2.413 1.961-4.369 4.381-4.369 2.42 0 4.381 1.956 4.381 4.369 0 2.413-1.961 4.368-4.381 4.368m0-10.835c-3.582 0-6.486 2.895-6.486 6.467 0 3.572 2.904 6.467 6.486 6.467 3.582 0 6.486-2.895 6.486-6.467 0-3.572-2.904-6.467-6.486-6.467\"></path></g></svg></button><input name=\"otracker\" type=\"hidden\" value=\"search\"/><input name=\"otracker1\" type=\"hidden\" value=\"search\"/><input name=\"marketplace\" type=\"hidden\" value=\"FLIPKART\"/><input name=\"as-show\" type=\"hidden\" value=\"off\"/><input name=\"as\" type=\"hidden\" value=\"off\"/></div><ul class=\"col-12-12 _1MRYA1\"></ul></form></div><div class=\"go_DOp _2errNR\"><div class=\"_28p97w\"><div class=\"_1psGvi _3BvnxG\"><div><a class=\"_1_3w1N\" href=\"/account/login?ret=/samsung-galaxy-m13-stardust-brown-128-gb/product-reviews/itmb1902f24653db%3Fpid%3DMOBGHDXFGQA4TXBZ%26lid%3DLSTMOBGHDXFGQA4TXBZVOB3YT%26marketplace%3DFLIPKART\">Login</a></div></div></div></div><div class=\"go_DOp\"><a class=\"_3-PJz-\" href=\"https://seller.flipkart.com/sell-online/?utm_source=fkwebsite&amp;utm_medium=websitedirect\"><span>Become a Seller</span></a></div><div class=\"go_DOp\"><div class=\"_28p97w\"><div class=\"_1psGvi _3BvnxG\"><div><div class=\"exehdJ\"> <!-- -->More<!-- --> </div></div></div><svg class=\"zZ3yfL\" height=\"8\" viewbox=\"0 0 16 27\" width=\"4.7\" xmlns=\"http://www.w3.org/2000/svg\"><path class=\"_2gTTdy\" d=\"M16 23.207L6.11 13.161 16 3.093 12.955 0 0 13.161l12.955 13.161z\" fill=\"#fff\"></path></svg></div></div><div class=\"go_DOp\"><div class=\"_1psGvi\"><div class=\"YUhWwv\"><a class=\"_3SkBxJ\" href=\"/viewcart?exploreMode=true&amp;preference=FLIPKART\"><svg class=\"V3C5bO\" height=\"14\" viewbox=\"0 0 16 16\" width=\"14\" xmlns=\"http://www.w3.org/2000/svg\"><path class=\"_1bS9ic\" d=\"M15.32 2.405H4.887C3 2.405 2.46.805 2.46.805L2.257.21C2.208.085 2.083 0 1.946 0H.336C.1 0-.064.24.024.46l.644 1.945L3.11 9.767c.047.137.175.23.32.23h8.418l-.493 1.958H3.768l.002.003c-.017 0-.033-.003-.05-.003-1.06 0-1.92.86-1.92 1.92s.86 1.92 1.92 1.92c.99 0 1.805-.75 1.91-1.712l5.55.076c.12.922.91 1.636 1.867 1.636 1.04 0 1.885-.844 1.885-1.885 0-.866-.584-1.593-1.38-1.814l2.423-8.832c.12-.433-.206-.86-.655-.86\" fill=\"#fff\"></path></svg><span>Cart</span></a></div></div></div></div><div class=\"_1TmfNK\"></div></div><div class=\"_1mUdNz\"></div></div><div class=\"_331-kn\"></div><div class=\"_2tsNFb\"><div class=\"_6t1WkM _3HqJxg\"><div class=\"_1YokD2 _2GoDe3 col-12-12\"><div class=\"_1YokD2 _3Mn1Gg col-3-12\" style=\"border-right:1px solid #f0f0f0\"><div class=\"_1AtVbE col-12-12\"><div class=\"_4ddWXP _3BCh3_ _G-HdA\"><a class=\"_2rpwqI\" href=\"/samsung-galaxy-m13-stardust-brown-128-gb/p/itmb1902f24653db?pid=MOBGHDXFGQA4TXBZ&amp;fm=organic&amp;ppt=None&amp;ppn=None&amp;ssid=g2fitlxo400000001690817919139\" rel=\"noopener noreferrer\" target=\"_blank\" title=\"SAMSUNG GALAXY M13 (Stardust Brown, 128 GB)\"><div class=\"_28_T72\"><div><div class=\"CXW8mj\" style=\"height:246px;width:246px\"><img alt=\"SAMSUNG GALAXY M13 (Stardust Brown, 128 GB)\" class=\"_396cs4\" loading=\"eager\" src=\"https://rukminim2.flixcart.com/image/312/312/xif0q/mobile/d/h/f/-original-imagghcfzz2n8gxc.jpeg?q=70\"/></div></div></div></a><div><div><a class=\"s1Q9rs _2qfgz2\" href=\"/samsung-galaxy-m13-stardust-brown-128-gb/p/itmb1902f24653db?pid=MOBGHDXFGQA4TXBZ&amp;fm=organic&amp;ppt=None&amp;ppn=None&amp;ssid=g2fitlxo400000001690817919139\" rel=\"noopener noreferrer\" target=\"_blank\" title=\"SAMSUNG GALAXY M13 (Stardust Brown, 128 GB)\">SAMSUNG GALAXY M13 (Stardust Brown, 128 GB)</a></div><div class=\"gUuXy-\"><span class=\"_1lRcqv\" id=\"productRating_LSTMOBGHDXFGQA4TXBZVOB3YT_MOBGHDXFGQA4TXBZ_\"><div class=\"_3LWZlK\">4.2<img class=\"_1wB99o\" src=\"data:image/svg+xml;base64,PHN2ZyB4bWxucz0iaHR0cDovL3d3dy53My5vcmcvMjAwMC9zdmciIHdpZHRoPSIxMyIgaGVpZ2h0PSIxMiI+PHBhdGggZmlsbD0iI0ZGRiIgZD0iTTYuNSA5LjQzOWwtMy42NzQgMi4yMy45NC00LjI2LTMuMjEtMi44ODMgNC4yNTQtLjQwNEw2LjUuMTEybDEuNjkgNC4wMSA0LjI1NC40MDQtMy4yMSAyLjg4Mi45NCA0LjI2eiIvPjwvc3ZnPg==\"/></div></span><span class=\"_2_R_DZ\"><span><span>1,064 Ratings </span><span class=\"_13vcmD\">&amp;</span><span> 54 Reviews</span></span></span></div><div class=\"_8VNy32 lnJjg0\"><div class=\"_25b18c\"><div class=\"_30jeq3\">₹13,489</div><div class=\"_3I9_wc\">₹<!-- -->17,999</div><div class=\"_3Ay6Sb\"><span>25% off</span></div></div></div></div></div></div><div class=\"_1AtVbE col-12-12\" style=\"border-top:1px solid #f0f0f0\"><div class=\"_1LsTqa\"><div class=\"jEaykx\"><span>User Images</span></div><div class=\"_2nMSwX _2ajiBF\"><div class=\"_21YjFX _3NGqA1\" style=\"background-image:url(https://rukminim1.flixcart.com/blobio/140/140/imr/blobio-imr_d80435f562fa462bbe62f6092988e1a6.jpg?q=90), url(data:image/svg+xml;base64,PHN2ZyB3aWR0aD0iMjIiIGhlaWdodD0iMTgiIHhtbG5zPSJodHRwOi8vd3d3LnczLm9yZy8yMDAwL3N2ZyI+PGcgZmlsbD0iIzlEOUQ5RCIgZmlsbC1ydWxlPSJub256ZXJvIj48cGF0aCBkPSJNMjAgMEgyQzEgMCAwIDEgMCAydjE0YzAgMS4xLjkgMiAyIDJoMThjMSAwIDItMSAyLTJWMmMwLTEtMS0yLTItMnptMCAxNS45MmMtLjAyLjAzLS4wNi4wNi0uMDguMDhIMlYyLjA4TDIuMDggMmgxNy44M2MuMDMuMDIuMDYuMDYuMDguMDh2MTMuODRIMjB6Ii8+PHBhdGggZD0iTTEwIDEyLjUxTDcuNSA5LjUgNCAxNGgxNGwtNC41LTZ6Ii8+PC9nPjwvc3ZnPg==);width:70px;height:70px\"></div></div></div></div></div><div class=\"_1YokD2 _3Mn1Gg col-9-12\"><div class=\"_1YokD2 _3Mn1Gg col-12-12\" style=\"border-bottom:1px solid #f0f0f0\"><div class=\"_1YokD2 _2GoDe3 col-12-12\"><div class=\"_1AtVbE col-10-12\"><div class=\"_2s4DIt _1CDdy2\">SAMSUNG GALAXY M13 (Stardust Brown, 128 GB) Reviews</div></div><div class=\"_1AtVbE\" style=\"flex-grow:1;overflow:initital\"><div class=\"gEkCyh\"><div class=\"_3uXCGr\"><div class=\"_2ECNXS\"><div class=\"_1cpOwe tVKh2S\"><select class=\"_1EDlbo tVKh2S\" name=\"sortFilter\"><option selected=\"\" value=\"MOST_HELPFUL\">Most Helpful</option><option value=\"MOST_RECENT\">Most Recent</option><option value=\"POSITIVE_FIRST\">Positive First</option><option value=\"NEGATIVE_FIRST\">Negative First</option></select><span class=\"_2NY3xT _2VZJIQ\"></span></div></div></div></div></div></div><div class=\"_1AtVbE col-12-12\"><div class=\"_33iqLu\"><div><a class=\"_203_Tp\" href=\"/samsung-galaxy-m13-stardust-brown-128-gb/product-reviews/itmb1902f24653db?pid=MOBGHDXFGQA4TXBZ&amp;lid=LSTMOBGHDXFGQA4TXBZVOB3YT&amp;sortOrder=MOST_HELPFUL&amp;certifiedBuyer=false&amp;aid=overall\"><span class=\"_1YKVER _203_Tp\">Overall</span></a><a class=\"\" href=\"/samsung-galaxy-m13-stardust-brown-128-gb/product-reviews/itmb1902f24653db?pid=MOBGHDXFGQA4TXBZ&amp;lid=LSTMOBGHDXFGQA4TXBZVOB3YT&amp;sortOrder=MOST_HELPFUL&amp;certifiedBuyer=false&amp;aid=dc0f2b2d-7619-44cc-b5fc-2fe3e4d453a7\"><span class=\"_1YKVER\">Camera</span></a><a class=\"\" href=\"/samsung-galaxy-m13-stardust-brown-128-gb/product-reviews/itmb1902f24653db?pid=MOBGHDXFGQA4TXBZ&amp;lid=LSTMOBGHDXFGQA4TXBZVOB3YT&amp;sortOrder=MOST_HELPFUL&amp;certifiedBuyer=false&amp;aid=3ac62744-ab96-4f53-82f7-02eb72b6a662\"><span class=\"_1YKVER\">Battery</span></a><a class=\"\" href=\"/samsung-galaxy-m13-stardust-brown-128-gb/product-reviews/itmb1902f24653db?pid=MOBGHDXFGQA4TXBZ&amp;lid=LSTMOBGHDXFGQA4TXBZVOB3YT&amp;sortOrder=MOST_HELPFUL&amp;certifiedBuyer=false&amp;aid=b32e49f9-79fd-4798-98ad-51dd89a408d0\"><span class=\"_1YKVER\">Display</span></a><a class=\"\" href=\"/samsung-galaxy-m13-stardust-brown-128-gb/product-reviews/itmb1902f24653db?pid=MOBGHDXFGQA4TXBZ&amp;lid=LSTMOBGHDXFGQA4TXBZVOB3YT&amp;sortOrder=MOST_HELPFUL&amp;certifiedBuyer=false&amp;aid=00ab4120-12b2-4a8f-b4e0-b426e17a27ca\"><span class=\"_1YKVER\">Design</span></a><a class=\"\" href=\"/samsung-galaxy-m13-stardust-brown-128-gb/product-reviews/itmb1902f24653db?pid=MOBGHDXFGQA4TXBZ&amp;lid=LSTMOBGHDXFGQA4TXBZVOB3YT&amp;sortOrder=MOST_HELPFUL&amp;certifiedBuyer=false&amp;aid=af9b0aa9-3e0a-4d59-bbb0-8997e7dcfa92\"><span class=\"_1YKVER\">Performance</span></a></div></div></div></div><div class=\"_1AtVbE col-12-12\"><div class=\"row Bfvo5l\"><div class=\"col-4-12 _17ETNY\"><div class=\"col\"><div class=\"row\"><div class=\"col-12-12 _1azcI6\"><div class=\"_2d4LTz\">4.2</div><div class=\"_2yxeXv\">★</div></div></div><div class=\"row _2afbiS\"><div class=\"col-12-12\"><span>1,064 Ratings &amp;</span></div></div><div class=\"row _2afbiS\"><div class=\"col-12-12\"><span>54 Reviews</span></div></div></div></div><div class=\"col-8-12\"><div class=\"_13sFCC miQW6D _2m9Pwo\"><ul class=\"_2jr1F_\"><li class=\"_28Xb_u\"><div class=\"omG9iE\"><span class=\"_26f_zl\">5</span><span class=\"_2xBWPJ\">★</span></div></li><li class=\"_28Xb_u\"><div class=\"omG9iE\"><span class=\"_26f_zl\">4</span><span class=\"_2xBWPJ\">★</span></div></li><li class=\"_28Xb_u\"><div class=\"omG9iE\"><span class=\"_26f_zl\">3</span><span class=\"_2xBWPJ\">★</span></div></li><li class=\"_28Xb_u\"><div class=\"omG9iE\"><span class=\"_26f_zl\">2</span><span class=\"_2xBWPJ\">★</span></div></li><li class=\"_28Xb_u\"><div class=\"omG9iE\"><span class=\"_26f_zl\">1</span><span class=\"_2xBWPJ\">★</span></div></li></ul><ul class=\"_2Plkj9\"><li class=\"_28Xb_u\"><div><div class=\"_3UaKsS\"><span class=\"EkB-Xt _1z2lGe\" style=\"width:100%\"></span></div></div></li><li class=\"_28Xb_u\"><div><div class=\"_3UaKsS\"><span class=\"EkB-Xt _2fGXyl\" style=\"width:34.49367088607595%\"></span></div></div></li><li class=\"_28Xb_u\"><div><div class=\"_3UaKsS\"><span class=\"EkB-Xt _1ia31G\" style=\"width:14.39873417721519%\"></span></div></div></li><li class=\"_28Xb_u\"><div><div class=\"_3UaKsS\"><span class=\"EkB-Xt HnnP7O\" style=\"width:4.588607594936709%\"></span></div></div></li><li class=\"_28Xb_u\"><div><div class=\"_3UaKsS\"><span class=\"EkB-Xt _2W5rgh\" style=\"width:14.873417721518987%\"></span></div></div></li></ul><ul class=\"_36LmXx\"><li class=\"_28Xb_u\"><div class=\"_1uJVNT\">632</div></li><li class=\"_28Xb_u\"><div class=\"_1uJVNT\">218</div></li><li class=\"_28Xb_u\"><div class=\"_1uJVNT\">91</div></li><li class=\"_28Xb_u\"><div class=\"_1uJVNT\">29</div></li><li class=\"_28Xb_u\"><div class=\"_1uJVNT\">94</div></li></ul></div></div></div></div><div class=\"_1AtVbE col-12-12\"><div class=\"_27M-vq\"><div class=\"col\"><div class=\"col _2wzgFH K0kLPL\"><div class=\"row\"><div class=\"_3LWZlK _1BLPMq\">5<img class=\"_1wB99o\" src=\"data:image/svg+xml;base64,PHN2ZyB4bWxucz0iaHR0cDovL3d3dy53My5vcmcvMjAwMC9zdmciIHdpZHRoPSIxMyIgaGVpZ2h0PSIxMiI+PHBhdGggZmlsbD0iI0ZGRiIgZD0iTTYuNSA5LjQzOWwtMy42NzQgMi4yMy45NC00LjI2LTMuMjEtMi44ODMgNC4yNTQtLjQwNEw2LjUuMTEybDEuNjkgNC4wMSA0LjI1NC40MDQtMy4yMSAyLjg4Mi45NCA0LjI2eiIvPjwvc3ZnPg==\"/></div><p class=\"_2-N8zT\">Classy product</p></div><div class=\"row\"><div class=\"t-ZTKy\"><div><div class=\"\">Best value of phone</div><span class=\"_1H-bmy\"><span>READ MORE</span></span></div></div></div><div class=\"row _3n8db9\"><div class=\"row\"><p class=\"_2sc7ZR _2V5EHH\">Yatendra kumar</p><svg class=\"_2a1p_T\" height=\"14\" viewbox=\"0 0 12 12\" width=\"14\" xmlns=\"http://www.w3.org/2000/svg\"><g><circle cx=\"6\" cy=\"6\" fill=\"#878787\" r=\"6\"></circle><path d=\"M3 6l2 2 4-4\" fill=\"#878787\" stroke=\"#FFF\" stroke-width=\"1.5\"></path></g></svg><p class=\"_2mcZGG\" id=\"review-b84da021-fee1-49b2-ac36-7d7f9cd43652\"><span>Certified Buyer</span><span>, New Delhi</span></p><div></div><p class=\"_2sc7ZR\">11 months ago</p></div><div class=\"_1e9_Zu\"><div class=\"row\"><div class=\"_27aTsS\"><div class=\"_1LmwT9\"><svg class=\"skCrcq\" height=\"15\" width=\"20\" xmlns=\"http://www.w3.org/2000/svg\"><path class=\"_1LIt4y\" d=\"M9.58.006c-.41.043-.794.32-1.01.728-.277.557-2.334 4.693-2.74 5.1-.41.407-.944.6-1.544.6v8.572h7.5c.45 0 .835-.28 1.007-.665 0 0 2.207-6.234 2.207-6.834 0-.6-.47-1.072-1.07-1.072h-3.216c-.6 0-1.07-.535-1.07-1.07 0-.537.835-3.387 1.006-3.944.17-.557-.107-1.157-.664-1.35-.15-.043-.257-.086-.407-.064zM0 6.434v8.572h2.143V6.434H0z\" fill=\"#fff\" fill-rule=\"evenodd\"></path></svg><span class=\"_3c3Px5\">249</span></div><div class=\"_1LmwT9 pkR4jH\"><svg class=\"skCrcq pkR4jH\" height=\"15\" width=\"20\" xmlns=\"http://www.w3.org/2000/svg\"><path class=\"_1LIt4y\" d=\"M9.58.006c-.41.043-.794.32-1.01.728-.277.557-2.334 4.693-2.74 5.1-.41.407-.944.6-1.544.6v8.572h7.5c.45 0 .835-.28 1.007-.665 0 0 2.207-6.234 2.207-6.834 0-.6-.47-1.072-1.07-1.072h-3.216c-.6 0-1.07-.535-1.07-1.07 0-.537.835-3.387 1.006-3.944.17-.557-.107-1.157-.664-1.35-.15-.043-.257-.086-.407-.064zM0 6.434v8.572h2.143V6.434H0z\" fill=\"#fff\" fill-rule=\"evenodd\"></path></svg><span class=\"_3c3Px5\">90</span></div></div><div class=\"_2bmov8\"><svg class=\"_2UvOBb\" height=\"11\" viewbox=\"0 0 16 27\" width=\"6\" xmlns=\"http://www.w3.org/2000/svg\"><path class=\"_2aPE6f\" d=\"M16 23.207L6.11 13.161 16 3.093 12.955 0 0 13.161l12.955 13.161z\" fill=\"#fff\"></path></svg><div class=\"_3E8aIl _38dCuf\"><div class=\"_3XCI6U\"><a href=\"/reviews/MOBGGHC4DTZCTEQC:1?reviewId=b84da021-fee1-49b2-ac36-7d7f9cd43652\"><span>Permalink</span></a></div><div class=\"_3XCI6U _2b2z-j\"><span>Report Abuse</span></div></div></div></div></div></div></div></div></div></div><div class=\"_1AtVbE col-12-12\"><div class=\"_27M-vq\"><div class=\"col\"><div class=\"col _2wzgFH K0kLPL\"><div class=\"row\"><div class=\"_3LWZlK _1BLPMq\">5<img class=\"_1wB99o\" src=\"data:image/svg+xml;base64,PHN2ZyB4bWxucz0iaHR0cDovL3d3dy53My5vcmcvMjAwMC9zdmciIHdpZHRoPSIxMyIgaGVpZ2h0PSIxMiI+PHBhdGggZmlsbD0iI0ZGRiIgZD0iTTYuNSA5LjQzOWwtMy42NzQgMi4yMy45NC00LjI2LTMuMjEtMi44ODMgNC4yNTQtLjQwNEw2LjUuMTEybDEuNjkgNC4wMSA0LjI1NC40MDQtMy4yMSAyLjg4Mi45NCA0LjI2eiIvPjwvc3ZnPg==\"/></div><p class=\"_2-N8zT\">Awesome</p></div><div class=\"row\"><div class=\"t-ZTKy\"><div><div class=\"\">Super</div><span class=\"_1H-bmy\"><span>READ MORE</span></span></div></div></div><div class=\"row _3n8db9\"><div class=\"row\"><p class=\"_2sc7ZR _2V5EHH\">Malliga Malliga</p><svg class=\"_2a1p_T\" height=\"14\" viewbox=\"0 0 12 12\" width=\"14\" xmlns=\"http://www.w3.org/2000/svg\"><g><circle cx=\"6\" cy=\"6\" fill=\"#878787\" r=\"6\"></circle><path d=\"M3 6l2 2 4-4\" fill=\"#878787\" stroke=\"#FFF\" stroke-width=\"1.5\"></path></g></svg><p class=\"_2mcZGG\" id=\"review-51b3de13-8d50-4a68-8d4a-1d3d486bb3b9\"><span>Certified Buyer</span><span>, Perambalur District</span></p><div></div><p class=\"_2sc7ZR\">9 months ago</p></div><div class=\"_1e9_Zu\"><div class=\"row\"><div class=\"_27aTsS\"><div class=\"_1LmwT9\"><svg class=\"skCrcq\" height=\"15\" width=\"20\" xmlns=\"http://www.w3.org/2000/svg\"><path class=\"_1LIt4y\" d=\"M9.58.006c-.41.043-.794.32-1.01.728-.277.557-2.334 4.693-2.74 5.1-.41.407-.944.6-1.544.6v8.572h7.5c.45 0 .835-.28 1.007-.665 0 0 2.207-6.234 2.207-6.834 0-.6-.47-1.072-1.07-1.072h-3.216c-.6 0-1.07-.535-1.07-1.07 0-.537.835-3.387 1.006-3.944.17-.557-.107-1.157-.664-1.35-.15-.043-.257-.086-.407-.064zM0 6.434v8.572h2.143V6.434H0z\" fill=\"#fff\" fill-rule=\"evenodd\"></path></svg><span class=\"_3c3Px5\">112</span></div><div class=\"_1LmwT9 pkR4jH\"><svg class=\"skCrcq pkR4jH\" height=\"15\" width=\"20\" xmlns=\"http://www.w3.org/2000/svg\"><path class=\"_1LIt4y\" d=\"M9.58.006c-.41.043-.794.32-1.01.728-.277.557-2.334 4.693-2.74 5.1-.41.407-.944.6-1.544.6v8.572h7.5c.45 0 .835-.28 1.007-.665 0 0 2.207-6.234 2.207-6.834 0-.6-.47-1.072-1.07-1.072h-3.216c-.6 0-1.07-.535-1.07-1.07 0-.537.835-3.387 1.006-3.944.17-.557-.107-1.157-.664-1.35-.15-.043-.257-.086-.407-.064zM0 6.434v8.572h2.143V6.434H0z\" fill=\"#fff\" fill-rule=\"evenodd\"></path></svg><span class=\"_3c3Px5\">40</span></div></div><div class=\"_2bmov8\"><svg class=\"_2UvOBb\" height=\"11\" viewbox=\"0 0 16 27\" width=\"6\" xmlns=\"http://www.w3.org/2000/svg\"><path class=\"_2aPE6f\" d=\"M16 23.207L6.11 13.161 16 3.093 12.955 0 0 13.161l12.955 13.161z\" fill=\"#fff\"></path></svg><div class=\"_3E8aIl _38dCuf\"><div class=\"_3XCI6U\"><a href=\"/reviews/MOBGGHC4DTZCTEQC:5?reviewId=51b3de13-8d50-4a68-8d4a-1d3d486bb3b9\"><span>Permalink</span></a></div><div class=\"_3XCI6U _2b2z-j\"><span>Report Abuse</span></div></div></div></div></div></div></div></div></div></div><div class=\"_1AtVbE col-12-12\"><div class=\"_27M-vq\"><div class=\"col\"><div class=\"col _2wzgFH K0kLPL\"><div class=\"row\"><div class=\"_3LWZlK _1BLPMq\">5<img class=\"_1wB99o\" src=\"data:image/svg+xml;base64,PHN2ZyB4bWxucz0iaHR0cDovL3d3dy53My5vcmcvMjAwMC9zdmciIHdpZHRoPSIxMyIgaGVpZ2h0PSIxMiI+PHBhdGggZmlsbD0iI0ZGRiIgZD0iTTYuNSA5LjQzOWwtMy42NzQgMi4yMy45NC00LjI2LTMuMjEtMi44ODMgNC4yNTQtLjQwNEw2LjUuMTEybDEuNjkgNC4wMSA0LjI1NC40MDQtMy4yMSAyLjg4Mi45NCA0LjI2eiIvPjwvc3ZnPg==\"/></div><p class=\"_2-N8zT\">Must buy!</p></div><div class=\"row\"><div class=\"t-ZTKy\"><div><div class=\"\">Good Phone</div><span class=\"_1H-bmy\"><span>READ MORE</span></span></div></div></div><div class=\"_2nMSwX _3oLIki\"><div class=\"_21YjFX _2A07HP\" style=\"background-image:url(https://rukminim1.flixcart.com/blobio/124/124/imr/blobio-imr_d80435f562fa462bbe62f6092988e1a6.jpg?q=90), url(data:image/svg+xml;base64,PHN2ZyB3aWR0aD0iMjIiIGhlaWdodD0iMTgiIHhtbG5zPSJodHRwOi8vd3d3LnczLm9yZy8yMDAwL3N2ZyI+PGcgZmlsbD0iIzlEOUQ5RCIgZmlsbC1ydWxlPSJub256ZXJvIj48cGF0aCBkPSJNMjAgMEgyQzEgMCAwIDEgMCAydjE0YzAgMS4xLjkgMiAyIDJoMThjMSAwIDItMSAyLTJWMmMwLTEtMS0yLTItMnptMCAxNS45MmMtLjAyLjAzLS4wNi4wNi0uMDguMDhIMlYyLjA4TDIuMDggMmgxNy44M2MuMDMuMDIuMDYuMDYuMDguMDh2MTMuODRIMjB6Ii8+PHBhdGggZD0iTTEwIDEyLjUxTDcuNSA5LjUgNCAxNGgxNGwtNC41LTZ6Ii8+PC9nPjwvc3ZnPg==);width:62px;height:62px\"></div></div><div class=\"row _3n8db9\"><div class=\"row\"><p class=\"_2sc7ZR _2V5EHH\">Pravash Kumar</p><svg class=\"_2a1p_T\" height=\"14\" viewbox=\"0 0 12 12\" width=\"14\" xmlns=\"http://www.w3.org/2000/svg\"><g><circle cx=\"6\" cy=\"6\" fill=\"#878787\" r=\"6\"></circle><path d=\"M3 6l2 2 4-4\" fill=\"#878787\" stroke=\"#FFF\" stroke-width=\"1.5\"></path></g></svg><p class=\"_2mcZGG\" id=\"review-c9dc7fe1-bea4-42bf-b60c-9b8aab191f8a\"><span>Certified Buyer</span><span>, Haldwani</span></p><div></div><p class=\"_2sc7ZR\">7 months ago</p></div><div class=\"_1e9_Zu\"><div class=\"row\"><div class=\"_27aTsS\"><div class=\"_1LmwT9\"><svg class=\"skCrcq\" height=\"15\" width=\"20\" xmlns=\"http://www.w3.org/2000/svg\"><path class=\"_1LIt4y\" d=\"M9.58.006c-.41.043-.794.32-1.01.728-.277.557-2.334 4.693-2.74 5.1-.41.407-.944.6-1.544.6v8.572h7.5c.45 0 .835-.28 1.007-.665 0 0 2.207-6.234 2.207-6.834 0-.6-.47-1.072-1.07-1.072h-3.216c-.6 0-1.07-.535-1.07-1.07 0-.537.835-3.387 1.006-3.944.17-.557-.107-1.157-.664-1.35-.15-.043-.257-.086-.407-.064zM0 6.434v8.572h2.143V6.434H0z\" fill=\"#fff\" fill-rule=\"evenodd\"></path></svg><span class=\"_3c3Px5\">226</span></div><div class=\"_1LmwT9 pkR4jH\"><svg class=\"skCrcq pkR4jH\" height=\"15\" width=\"20\" xmlns=\"http://www.w3.org/2000/svg\"><path class=\"_1LIt4y\" d=\"M9.58.006c-.41.043-.794.32-1.01.728-.277.557-2.334 4.693-2.74 5.1-.41.407-.944.6-1.544.6v8.572h7.5c.45 0 .835-.28 1.007-.665 0 0 2.207-6.234 2.207-6.834 0-.6-.47-1.072-1.07-1.072h-3.216c-.6 0-1.07-.535-1.07-1.07 0-.537.835-3.387 1.006-3.944.17-.557-.107-1.157-.664-1.35-.15-.043-.257-.086-.407-.064zM0 6.434v8.572h2.143V6.434H0z\" fill=\"#fff\" fill-rule=\"evenodd\"></path></svg><span class=\"_3c3Px5\">102</span></div></div><div class=\"_2bmov8\"><svg class=\"_2UvOBb\" height=\"11\" viewbox=\"0 0 16 27\" width=\"6\" xmlns=\"http://www.w3.org/2000/svg\"><path class=\"_2aPE6f\" d=\"M16 23.207L6.11 13.161 16 3.093 12.955 0 0 13.161l12.955 13.161z\" fill=\"#fff\"></path></svg><div class=\"_3E8aIl _38dCuf\"><div class=\"_3XCI6U\"><a href=\"/reviews/MOBGGHCFVVZ3RFDS:5?reviewId=c9dc7fe1-bea4-42bf-b60c-9b8aab191f8a\"><span>Permalink</span></a></div><div class=\"_3XCI6U _2b2z-j\"><span>Report Abuse</span></div></div></div></div></div></div></div></div></div></div><div class=\"_1AtVbE col-12-12\"><div class=\"_27M-vq\"><div class=\"col\"><div class=\"col _2wzgFH K0kLPL\"><div class=\"row\"><div class=\"_3LWZlK _1BLPMq\">3<img class=\"_1wB99o\" src=\"data:image/svg+xml;base64,PHN2ZyB4bWxucz0iaHR0cDovL3d3dy53My5vcmcvMjAwMC9zdmciIHdpZHRoPSIxMyIgaGVpZ2h0PSIxMiI+PHBhdGggZmlsbD0iI0ZGRiIgZD0iTTYuNSA5LjQzOWwtMy42NzQgMi4yMy45NC00LjI2LTMuMjEtMi44ODMgNC4yNTQtLjQwNEw2LjUuMTEybDEuNjkgNC4wMSA0LjI1NC40MDQtMy4yMSAyLjg4Mi45NCA0LjI2eiIvPjwvc3ZnPg==\"/></div><p class=\"_2-N8zT\">Fair</p></div><div class=\"row\"><div class=\"t-ZTKy\"><div><div class=\"\">Nice</div><span class=\"_1H-bmy\"><span>READ MORE</span></span></div></div></div><div class=\"row _3n8db9\"><div class=\"row\"><p class=\"_2sc7ZR _2V5EHH\">Sujeet Mondal</p><svg class=\"_2a1p_T\" height=\"14\" viewbox=\"0 0 12 12\" width=\"14\" xmlns=\"http://www.w3.org/2000/svg\"><g><circle cx=\"6\" cy=\"6\" fill=\"#878787\" r=\"6\"></circle><path d=\"M3 6l2 2 4-4\" fill=\"#878787\" stroke=\"#FFF\" stroke-width=\"1.5\"></path></g></svg><p class=\"_2mcZGG\" id=\"review-1037786d-d9a6-4d73-b152-e4bb823b3850\"><span>Certified Buyer</span></p><div></div><p class=\"_2sc7ZR\">9 months ago</p></div><div class=\"_1e9_Zu\"><div class=\"row\"><div class=\"_27aTsS\"><div class=\"_1LmwT9\"><svg class=\"skCrcq\" height=\"15\" width=\"20\" xmlns=\"http://www.w3.org/2000/svg\"><path class=\"_1LIt4y\" d=\"M9.58.006c-.41.043-.794.32-1.01.728-.277.557-2.334 4.693-2.74 5.1-.41.407-.944.6-1.544.6v8.572h7.5c.45 0 .835-.28 1.007-.665 0 0 2.207-6.234 2.207-6.834 0-.6-.47-1.072-1.07-1.072h-3.216c-.6 0-1.07-.535-1.07-1.07 0-.537.835-3.387 1.006-3.944.17-.557-.107-1.157-.664-1.35-.15-.043-.257-.086-.407-.064zM0 6.434v8.572h2.143V6.434H0z\" fill=\"#fff\" fill-rule=\"evenodd\"></path></svg><span class=\"_3c3Px5\">66</span></div><div class=\"_1LmwT9 pkR4jH\"><svg class=\"skCrcq pkR4jH\" height=\"15\" width=\"20\" xmlns=\"http://www.w3.org/2000/svg\"><path class=\"_1LIt4y\" d=\"M9.58.006c-.41.043-.794.32-1.01.728-.277.557-2.334 4.693-2.74 5.1-.41.407-.944.6-1.544.6v8.572h7.5c.45 0 .835-.28 1.007-.665 0 0 2.207-6.234 2.207-6.834 0-.6-.47-1.072-1.07-1.072h-3.216c-.6 0-1.07-.535-1.07-1.07 0-.537.835-3.387 1.006-3.944.17-.557-.107-1.157-.664-1.35-.15-.043-.257-.086-.407-.064zM0 6.434v8.572h2.143V6.434H0z\" fill=\"#fff\" fill-rule=\"evenodd\"></path></svg><span class=\"_3c3Px5\">26</span></div></div><div class=\"_2bmov8\"><svg class=\"_2UvOBb\" height=\"11\" viewbox=\"0 0 16 27\" width=\"6\" xmlns=\"http://www.w3.org/2000/svg\"><path class=\"_2aPE6f\" d=\"M16 23.207L6.11 13.161 16 3.093 12.955 0 0 13.161l12.955 13.161z\" fill=\"#fff\"></path></svg><div class=\"_3E8aIl _38dCuf\"><div class=\"_3XCI6U\"><a href=\"/reviews/MOBGGHC4DTZCTEQC:3?reviewId=1037786d-d9a6-4d73-b152-e4bb823b3850\"><span>Permalink</span></a></div><div class=\"_3XCI6U _2b2z-j\"><span>Report Abuse</span></div></div></div></div></div></div></div></div></div></div><div class=\"_1AtVbE col-12-12\"><div class=\"_27M-vq\"><div class=\"col\"><div class=\"col _2wzgFH K0kLPL\"><div class=\"row\"><div class=\"_3LWZlK _1BLPMq\">4<img class=\"_1wB99o\" src=\"data:image/svg+xml;base64,PHN2ZyB4bWxucz0iaHR0cDovL3d3dy53My5vcmcvMjAwMC9zdmciIHdpZHRoPSIxMyIgaGVpZ2h0PSIxMiI+PHBhdGggZmlsbD0iI0ZGRiIgZD0iTTYuNSA5LjQzOWwtMy42NzQgMi4yMy45NC00LjI2LTMuMjEtMi44ODMgNC4yNTQtLjQwNEw2LjUuMTEybDEuNjkgNC4wMSA0LjI1NC40MDQtMy4yMSAyLjg4Mi45NCA0LjI2eiIvPjwvc3ZnPg==\"/></div><p class=\"_2-N8zT\">Pretty good</p></div><div class=\"row\"><div class=\"t-ZTKy\"><div><div class=\"\">Super display<br/>Avg camera<br/>Batary good<br/>Overall good product</div><span class=\"_1H-bmy\"><span>READ MORE</span></span></div></div></div><div class=\"row _3n8db9\"><div class=\"row\"><p class=\"_2sc7ZR _2V5EHH\">Upendra Kumar</p><svg class=\"_2a1p_T\" height=\"14\" viewbox=\"0 0 12 12\" width=\"14\" xmlns=\"http://www.w3.org/2000/svg\"><g><circle cx=\"6\" cy=\"6\" fill=\"#878787\" r=\"6\"></circle><path d=\"M3 6l2 2 4-4\" fill=\"#878787\" stroke=\"#FFF\" stroke-width=\"1.5\"></path></g></svg><p class=\"_2mcZGG\" id=\"review-a2fe8333-1f4d-48fe-b484-dcea90ab0fdc\"><span>Certified Buyer</span><span>, Sariya</span></p><div></div><p class=\"_2sc7ZR\">9 months ago</p></div><div class=\"_1e9_Zu\"><div class=\"row\"><div class=\"_27aTsS\"><div class=\"_1LmwT9\"><svg class=\"skCrcq\" height=\"15\" width=\"20\" xmlns=\"http://www.w3.org/2000/svg\"><path class=\"_1LIt4y\" d=\"M9.58.006c-.41.043-.794.32-1.01.728-.277.557-2.334 4.693-2.74 5.1-.41.407-.944.6-1.544.6v8.572h7.5c.45 0 .835-.28 1.007-.665 0 0 2.207-6.234 2.207-6.834 0-.6-.47-1.072-1.07-1.072h-3.216c-.6 0-1.07-.535-1.07-1.07 0-.537.835-3.387 1.006-3.944.17-.557-.107-1.157-.664-1.35-.15-.043-.257-.086-.407-.064zM0 6.434v8.572h2.143V6.434H0z\" fill=\"#fff\" fill-rule=\"evenodd\"></path></svg><span class=\"_3c3Px5\">10</span></div><div class=\"_1LmwT9 pkR4jH\"><svg class=\"skCrcq pkR4jH\" height=\"15\" width=\"20\" xmlns=\"http://www.w3.org/2000/svg\"><path class=\"_1LIt4y\" d=\"M9.58.006c-.41.043-.794.32-1.01.728-.277.557-2.334 4.693-2.74 5.1-.41.407-.944.6-1.544.6v8.572h7.5c.45 0 .835-.28 1.007-.665 0 0 2.207-6.234 2.207-6.834 0-.6-.47-1.072-1.07-1.072h-3.216c-.6 0-1.07-.535-1.07-1.07 0-.537.835-3.387 1.006-3.944.17-.557-.107-1.157-.664-1.35-.15-.043-.257-.086-.407-.064zM0 6.434v8.572h2.143V6.434H0z\" fill=\"#fff\" fill-rule=\"evenodd\"></path></svg><span class=\"_3c3Px5\">3</span></div></div><div class=\"_2bmov8\"><svg class=\"_2UvOBb\" height=\"11\" viewbox=\"0 0 16 27\" width=\"6\" xmlns=\"http://www.w3.org/2000/svg\"><path class=\"_2aPE6f\" d=\"M16 23.207L6.11 13.161 16 3.093 12.955 0 0 13.161l12.955 13.161z\" fill=\"#fff\"></path></svg><div class=\"_3E8aIl _38dCuf\"><div class=\"_3XCI6U\"><a href=\"/reviews/MOBGGHC4DTZCTEQC:4?reviewId=a2fe8333-1f4d-48fe-b484-dcea90ab0fdc\"><span>Permalink</span></a></div><div class=\"_3XCI6U _2b2z-j\"><span>Report Abuse</span></div></div></div></div></div></div></div></div></div></div><div class=\"_1AtVbE col-12-12\"><div class=\"_27M-vq\"><div class=\"col\"><div class=\"col _2wzgFH K0kLPL\"><div class=\"row\"><div class=\"_3LWZlK _1BLPMq\">5<img class=\"_1wB99o\" src=\"data:image/svg+xml;base64,PHN2ZyB4bWxucz0iaHR0cDovL3d3dy53My5vcmcvMjAwMC9zdmciIHdpZHRoPSIxMyIgaGVpZ2h0PSIxMiI+PHBhdGggZmlsbD0iI0ZGRiIgZD0iTTYuNSA5LjQzOWwtMy42NzQgMi4yMy45NC00LjI2LTMuMjEtMi44ODMgNC4yNTQtLjQwNEw2LjUuMTEybDEuNjkgNC4wMSA0LjI1NC40MDQtMy4yMSAyLjg4Mi45NCA0LjI2eiIvPjwvc3ZnPg==\"/></div><p class=\"_2-N8zT\">Wonderful</p></div><div class=\"row\"><div class=\"t-ZTKy\"><div><div class=\"\">Good performance and battery life</div><span class=\"_1H-bmy\"><span>READ MORE</span></span></div></div></div><div class=\"row _3n8db9\"><div class=\"row\"><p class=\"_2sc7ZR _2V5EHH\">Deepak  Dk</p><svg class=\"_2a1p_T\" height=\"14\" viewbox=\"0 0 12 12\" width=\"14\" xmlns=\"http://www.w3.org/2000/svg\"><g><circle cx=\"6\" cy=\"6\" fill=\"#878787\" r=\"6\"></circle><path d=\"M3 6l2 2 4-4\" fill=\"#878787\" stroke=\"#FFF\" stroke-width=\"1.5\"></path></g></svg><p class=\"_2mcZGG\" id=\"review-fbec82bf-8a34-4dd7-9f1f-001a69265ede\"><span>Certified Buyer</span><span>, Erode</span></p><div></div><p class=\"_2sc7ZR\">1 month ago</p></div><div class=\"_1e9_Zu\"><div class=\"row\"><div class=\"_27aTsS\"><div class=\"_1LmwT9\"><svg class=\"skCrcq\" height=\"15\" width=\"20\" xmlns=\"http://www.w3.org/2000/svg\"><path class=\"_1LIt4y\" d=\"M9.58.006c-.41.043-.794.32-1.01.728-.277.557-2.334 4.693-2.74 5.1-.41.407-.944.6-1.544.6v8.572h7.5c.45 0 .835-.28 1.007-.665 0 0 2.207-6.234 2.207-6.834 0-.6-.47-1.072-1.07-1.072h-3.216c-.6 0-1.07-.535-1.07-1.07 0-.537.835-3.387 1.006-3.944.17-.557-.107-1.157-.664-1.35-.15-.043-.257-.086-.407-.064zM0 6.434v8.572h2.143V6.434H0z\" fill=\"#fff\" fill-rule=\"evenodd\"></path></svg><span class=\"_3c3Px5\">3</span></div><div class=\"_1LmwT9 pkR4jH\"><svg class=\"skCrcq pkR4jH\" height=\"15\" width=\"20\" xmlns=\"http://www.w3.org/2000/svg\"><path class=\"_1LIt4y\" d=\"M9.58.006c-.41.043-.794.32-1.01.728-.277.557-2.334 4.693-2.74 5.1-.41.407-.944.6-1.544.6v8.572h7.5c.45 0 .835-.28 1.007-.665 0 0 2.207-6.234 2.207-6.834 0-.6-.47-1.072-1.07-1.072h-3.216c-.6 0-1.07-.535-1.07-1.07 0-.537.835-3.387 1.006-3.944.17-.557-.107-1.157-.664-1.35-.15-.043-.257-.086-.407-.064zM0 6.434v8.572h2.143V6.434H0z\" fill=\"#fff\" fill-rule=\"evenodd\"></path></svg><span class=\"_3c3Px5\">0</span></div></div><div class=\"_2bmov8\"><svg class=\"_2UvOBb\" height=\"11\" viewbox=\"0 0 16 27\" width=\"6\" xmlns=\"http://www.w3.org/2000/svg\"><path class=\"_2aPE6f\" d=\"M16 23.207L6.11 13.161 16 3.093 12.955 0 0 13.161l12.955 13.161z\" fill=\"#fff\"></path></svg><div class=\"_3E8aIl _38dCuf\"><div class=\"_3XCI6U\"><a href=\"/reviews/MOBGHDXFHYUHR8Z5:15?reviewId=fbec82bf-8a34-4dd7-9f1f-001a69265ede\"><span>Permalink</span></a></div><div class=\"_3XCI6U _2b2z-j\"><span>Report Abuse</span></div></div></div></div></div></div></div></div></div></div><div class=\"_1AtVbE col-12-12\"><div class=\"_27M-vq\"><div class=\"col\"><div class=\"col _2wzgFH K0kLPL\"><div class=\"row\"><div class=\"_3LWZlK _1BLPMq\">5<img class=\"_1wB99o\" src=\"data:image/svg+xml;base64,PHN2ZyB4bWxucz0iaHR0cDovL3d3dy53My5vcmcvMjAwMC9zdmciIHdpZHRoPSIxMyIgaGVpZ2h0PSIxMiI+PHBhdGggZmlsbD0iI0ZGRiIgZD0iTTYuNSA5LjQzOWwtMy42NzQgMi4yMy45NC00LjI2LTMuMjEtMi44ODMgNC4yNTQtLjQwNEw2LjUuMTEybDEuNjkgNC4wMSA0LjI1NC40MDQtMy4yMSAyLjg4Mi45NCA0LjI2eiIvPjwvc3ZnPg==\"/></div><p class=\"_2-N8zT\">Brilliant</p></div><div class=\"row\"><div class=\"t-ZTKy\"><div><div class=\"\">I really like and love this product</div><span class=\"_1H-bmy\"><span>READ MORE</span></span></div></div></div><div class=\"row _3n8db9\"><div class=\"row\"><p class=\"_2sc7ZR _2V5EHH\">Atul  tiwari</p><svg class=\"_2a1p_T\" height=\"14\" viewbox=\"0 0 12 12\" width=\"14\" xmlns=\"http://www.w3.org/2000/svg\"><g><circle cx=\"6\" cy=\"6\" fill=\"#878787\" r=\"6\"></circle><path d=\"M3 6l2 2 4-4\" fill=\"#878787\" stroke=\"#FFF\" stroke-width=\"1.5\"></path></g></svg><p class=\"_2mcZGG\" id=\"review-4557bf42-3fcf-44a2-ae25-33e77de66176\"><span>Certified Buyer</span><span>, Mangawan</span></p><div></div><p class=\"_2sc7ZR\">3 months ago</p></div><div class=\"_1e9_Zu\"><div class=\"row\"><div class=\"_27aTsS\"><div class=\"_1LmwT9\"><svg class=\"skCrcq\" height=\"15\" width=\"20\" xmlns=\"http://www.w3.org/2000/svg\"><path class=\"_1LIt4y\" d=\"M9.58.006c-.41.043-.794.32-1.01.728-.277.557-2.334 4.693-2.74 5.1-.41.407-.944.6-1.544.6v8.572h7.5c.45 0 .835-.28 1.007-.665 0 0 2.207-6.234 2.207-6.834 0-.6-.47-1.072-1.07-1.072h-3.216c-.6 0-1.07-.535-1.07-1.07 0-.537.835-3.387 1.006-3.944.17-.557-.107-1.157-.664-1.35-.15-.043-.257-.086-.407-.064zM0 6.434v8.572h2.143V6.434H0z\" fill=\"#fff\" fill-rule=\"evenodd\"></path></svg><span class=\"_3c3Px5\">3</span></div><div class=\"_1LmwT9 pkR4jH\"><svg class=\"skCrcq pkR4jH\" height=\"15\" width=\"20\" xmlns=\"http://www.w3.org/2000/svg\"><path class=\"_1LIt4y\" d=\"M9.58.006c-.41.043-.794.32-1.01.728-.277.557-2.334 4.693-2.74 5.1-.41.407-.944.6-1.544.6v8.572h7.5c.45 0 .835-.28 1.007-.665 0 0 2.207-6.234 2.207-6.834 0-.6-.47-1.072-1.07-1.072h-3.216c-.6 0-1.07-.535-1.07-1.07 0-.537.835-3.387 1.006-3.944.17-.557-.107-1.157-.664-1.35-.15-.043-.257-.086-.407-.064zM0 6.434v8.572h2.143V6.434H0z\" fill=\"#fff\" fill-rule=\"evenodd\"></path></svg><span class=\"_3c3Px5\">0</span></div></div><div class=\"_2bmov8\"><svg class=\"_2UvOBb\" height=\"11\" viewbox=\"0 0 16 27\" width=\"6\" xmlns=\"http://www.w3.org/2000/svg\"><path class=\"_2aPE6f\" d=\"M16 23.207L6.11 13.161 16 3.093 12.955 0 0 13.161l12.955 13.161z\" fill=\"#fff\"></path></svg><div class=\"_3E8aIl _38dCuf\"><div class=\"_3XCI6U\"><a href=\"/reviews/MOBGGHE6ZBASZHZ6:18?reviewId=4557bf42-3fcf-44a2-ae25-33e77de66176\"><span>Permalink</span></a></div><div class=\"_3XCI6U _2b2z-j\"><span>Report Abuse</span></div></div></div></div></div></div></div></div></div></div><div class=\"_1AtVbE col-12-12\"><div class=\"_27M-vq\"><div class=\"col\"><div class=\"col _2wzgFH K0kLPL\"><div class=\"row\"><div class=\"_3LWZlK _1BLPMq\">5<img class=\"_1wB99o\" src=\"data:image/svg+xml;base64,PHN2ZyB4bWxucz0iaHR0cDovL3d3dy53My5vcmcvMjAwMC9zdmciIHdpZHRoPSIxMyIgaGVpZ2h0PSIxMiI+PHBhdGggZmlsbD0iI0ZGRiIgZD0iTTYuNSA5LjQzOWwtMy42NzQgMi4yMy45NC00LjI2LTMuMjEtMi44ODMgNC4yNTQtLjQwNEw2LjUuMTEybDEuNjkgNC4wMSA0LjI1NC40MDQtMy4yMSAyLjg4Mi45NCA0LjI2eiIvPjwvc3ZnPg==\"/></div><p class=\"_2-N8zT\">Highly recommended</p></div><div class=\"row\"><div class=\"t-ZTKy\"><div><div class=\"\">Very good</div><span class=\"_1H-bmy\"><span>READ MORE</span></span></div></div></div><div class=\"row _3n8db9\"><div class=\"row\"><p class=\"_2sc7ZR _2V5EHH\">Alok Kumar Pandey </p><svg class=\"_2a1p_T\" height=\"14\" viewbox=\"0 0 12 12\" width=\"14\" xmlns=\"http://www.w3.org/2000/svg\"><g><circle cx=\"6\" cy=\"6\" fill=\"#878787\" r=\"6\"></circle><path d=\"M3 6l2 2 4-4\" fill=\"#878787\" stroke=\"#FFF\" stroke-width=\"1.5\"></path></g></svg><p class=\"_2mcZGG\" id=\"review-c5a8dad3-5e53-4e02-8eb3-ea5ae3ede5e4\"><span>Certified Buyer</span><span>, Kahalgaon</span></p><div></div><p class=\"_2sc7ZR\">8 months ago</p></div><div class=\"_1e9_Zu\"><div class=\"row\"><div class=\"_27aTsS\"><div class=\"_1LmwT9\"><svg class=\"skCrcq\" height=\"15\" width=\"20\" xmlns=\"http://www.w3.org/2000/svg\"><path class=\"_1LIt4y\" d=\"M9.58.006c-.41.043-.794.32-1.01.728-.277.557-2.334 4.693-2.74 5.1-.41.407-.944.6-1.544.6v8.572h7.5c.45 0 .835-.28 1.007-.665 0 0 2.207-6.234 2.207-6.834 0-.6-.47-1.072-1.07-1.072h-3.216c-.6 0-1.07-.535-1.07-1.07 0-.537.835-3.387 1.006-3.944.17-.557-.107-1.157-.664-1.35-.15-.043-.257-.086-.407-.064zM0 6.434v8.572h2.143V6.434H0z\" fill=\"#fff\" fill-rule=\"evenodd\"></path></svg><span class=\"_3c3Px5\">2</span></div><div class=\"_1LmwT9 pkR4jH\"><svg class=\"skCrcq pkR4jH\" height=\"15\" width=\"20\" xmlns=\"http://www.w3.org/2000/svg\"><path class=\"_1LIt4y\" d=\"M9.58.006c-.41.043-.794.32-1.01.728-.277.557-2.334 4.693-2.74 5.1-.41.407-.944.6-1.544.6v8.572h7.5c.45 0 .835-.28 1.007-.665 0 0 2.207-6.234 2.207-6.834 0-.6-.47-1.072-1.07-1.072h-3.216c-.6 0-1.07-.535-1.07-1.07 0-.537.835-3.387 1.006-3.944.17-.557-.107-1.157-.664-1.35-.15-.043-.257-.086-.407-.064zM0 6.434v8.572h2.143V6.434H0z\" fill=\"#fff\" fill-rule=\"evenodd\"></path></svg><span class=\"_3c3Px5\">0</span></div></div><div class=\"_2bmov8\"><svg class=\"_2UvOBb\" height=\"11\" viewbox=\"0 0 16 27\" width=\"6\" xmlns=\"http://www.w3.org/2000/svg\"><path class=\"_2aPE6f\" d=\"M16 23.207L6.11 13.161 16 3.093 12.955 0 0 13.161l12.955 13.161z\" fill=\"#fff\"></path></svg><div class=\"_3E8aIl _38dCuf\"><div class=\"_3XCI6U\"><a href=\"/reviews/MOBGGHCFVVZ3RFDS:2?reviewId=c5a8dad3-5e53-4e02-8eb3-ea5ae3ede5e4\"><span>Permalink</span></a></div><div class=\"_3XCI6U _2b2z-j\"><span>Report Abuse</span></div></div></div></div></div></div></div></div></div></div><div class=\"_1AtVbE col-12-12\"><div class=\"_27M-vq\"><div class=\"col\"><div class=\"col _2wzgFH K0kLPL\"><div class=\"row\"><div class=\"_3LWZlK _1rdVr6 _1BLPMq\">1<img class=\"_1wB99o\" src=\"data:image/svg+xml;base64,PHN2ZyB4bWxucz0iaHR0cDovL3d3dy53My5vcmcvMjAwMC9zdmciIHdpZHRoPSIxMyIgaGVpZ2h0PSIxMiI+PHBhdGggZmlsbD0iI0ZGRiIgZD0iTTYuNSA5LjQzOWwtMy42NzQgMi4yMy45NC00LjI2LTMuMjEtMi44ODMgNC4yNTQtLjQwNEw2LjUuMTEybDEuNjkgNC4wMSA0LjI1NC40MDQtMy4yMSAyLjg4Mi45NCA0LjI2eiIvPjwvc3ZnPg==\"/></div><p class=\"_2-N8zT\">Useless product</p></div><div class=\"row\"><div class=\"t-ZTKy\"><div><div class=\"\">Don't buy Flipkart product</div><span class=\"_1H-bmy\"><span>READ MORE</span></span></div></div></div><div class=\"row _3n8db9\"><div class=\"row\"><p class=\"_2sc7ZR _2V5EHH\">Muniyan Ramalingam</p><svg class=\"_2a1p_T\" height=\"14\" viewbox=\"0 0 12 12\" width=\"14\" xmlns=\"http://www.w3.org/2000/svg\"><g><circle cx=\"6\" cy=\"6\" fill=\"#878787\" r=\"6\"></circle><path d=\"M3 6l2 2 4-4\" fill=\"#878787\" stroke=\"#FFF\" stroke-width=\"1.5\"></path></g></svg><p class=\"_2mcZGG\" id=\"review-37145aad-68c4-4e93-906e-866bd7663ace\"><span>Certified Buyer</span><span>, Thiagadurgam</span></p><div></div><p class=\"_2sc7ZR\">9 months ago</p></div><div class=\"_1e9_Zu\"><div class=\"row\"><div class=\"_27aTsS\"><div class=\"_1LmwT9\"><svg class=\"skCrcq\" height=\"15\" width=\"20\" xmlns=\"http://www.w3.org/2000/svg\"><path class=\"_1LIt4y\" d=\"M9.58.006c-.41.043-.794.32-1.01.728-.277.557-2.334 4.693-2.74 5.1-.41.407-.944.6-1.544.6v8.572h7.5c.45 0 .835-.28 1.007-.665 0 0 2.207-6.234 2.207-6.834 0-.6-.47-1.072-1.07-1.072h-3.216c-.6 0-1.07-.535-1.07-1.07 0-.537.835-3.387 1.006-3.944.17-.557-.107-1.157-.664-1.35-.15-.043-.257-.086-.407-.064zM0 6.434v8.572h2.143V6.434H0z\" fill=\"#fff\" fill-rule=\"evenodd\"></path></svg><span class=\"_3c3Px5\">8</span></div><div class=\"_1LmwT9 pkR4jH\"><svg class=\"skCrcq pkR4jH\" height=\"15\" width=\"20\" xmlns=\"http://www.w3.org/2000/svg\"><path class=\"_1LIt4y\" d=\"M9.58.006c-.41.043-.794.32-1.01.728-.277.557-2.334 4.693-2.74 5.1-.41.407-.944.6-1.544.6v8.572h7.5c.45 0 .835-.28 1.007-.665 0 0 2.207-6.234 2.207-6.834 0-.6-.47-1.072-1.07-1.072h-3.216c-.6 0-1.07-.535-1.07-1.07 0-.537.835-3.387 1.006-3.944.17-.557-.107-1.157-.664-1.35-.15-.043-.257-.086-.407-.064zM0 6.434v8.572h2.143V6.434H0z\" fill=\"#fff\" fill-rule=\"evenodd\"></path></svg><span class=\"_3c3Px5\">4</span></div></div><div class=\"_2bmov8\"><svg class=\"_2UvOBb\" height=\"11\" viewbox=\"0 0 16 27\" width=\"6\" xmlns=\"http://www.w3.org/2000/svg\"><path class=\"_2aPE6f\" d=\"M16 23.207L6.11 13.161 16 3.093 12.955 0 0 13.161l12.955 13.161z\" fill=\"#fff\"></path></svg><div class=\"_3E8aIl _38dCuf\"><div class=\"_3XCI6U\"><a href=\"/reviews/MOBGGHC4DTZCTEQC:10?reviewId=37145aad-68c4-4e93-906e-866bd7663ace\"><span>Permalink</span></a></div><div class=\"_3XCI6U _2b2z-j\"><span>Report Abuse</span></div></div></div></div></div></div></div></div></div></div><div class=\"_1AtVbE col-12-12\"><div class=\"_27M-vq\"><div class=\"col\"><div class=\"col _2wzgFH K0kLPL\"><div class=\"row\"><div class=\"_3LWZlK _1rdVr6 _1BLPMq\">1<img class=\"_1wB99o\" src=\"data:image/svg+xml;base64,PHN2ZyB4bWxucz0iaHR0cDovL3d3dy53My5vcmcvMjAwMC9zdmciIHdpZHRoPSIxMyIgaGVpZ2h0PSIxMiI+PHBhdGggZmlsbD0iI0ZGRiIgZD0iTTYuNSA5LjQzOWwtMy42NzQgMi4yMy45NC00LjI2LTMuMjEtMi44ODMgNC4yNTQtLjQwNEw2LjUuMTEybDEuNjkgNC4wMSA0LjI1NC40MDQtMy4yMSAyLjg4Mi45NCA0LjI2eiIvPjwvc3ZnPg==\"/></div><p class=\"_2-N8zT\">Terrible product</p></div><div class=\"row\"><div class=\"t-ZTKy\"><div><div class=\"\">Very poor product by sumsung</div><span class=\"_1H-bmy\"><span>READ MORE</span></span></div></div></div><div class=\"row _3n8db9\"><div class=\"row\"><p class=\"_2sc7ZR _2V5EHH\">Nishant  Prakash</p><svg class=\"_2a1p_T\" height=\"14\" viewbox=\"0 0 12 12\" width=\"14\" xmlns=\"http://www.w3.org/2000/svg\"><g><circle cx=\"6\" cy=\"6\" fill=\"#878787\" r=\"6\"></circle><path d=\"M3 6l2 2 4-4\" fill=\"#878787\" stroke=\"#FFF\" stroke-width=\"1.5\"></path></g></svg><p class=\"_2mcZGG\" id=\"review-4f1fc87f-64be-47ad-9fb1-26ad04e2a7ff\"><span>Certified Buyer</span><span>, Chatra</span></p><div></div><p class=\"_2sc7ZR\">7 months ago</p></div><div class=\"_1e9_Zu\"><div class=\"row\"><div class=\"_27aTsS\"><div class=\"_1LmwT9\"><svg class=\"skCrcq\" height=\"15\" width=\"20\" xmlns=\"http://www.w3.org/2000/svg\"><path class=\"_1LIt4y\" d=\"M9.58.006c-.41.043-.794.32-1.01.728-.277.557-2.334 4.693-2.74 5.1-.41.407-.944.6-1.544.6v8.572h7.5c.45 0 .835-.28 1.007-.665 0 0 2.207-6.234 2.207-6.834 0-.6-.47-1.072-1.07-1.072h-3.216c-.6 0-1.07-.535-1.07-1.07 0-.537.835-3.387 1.006-3.944.17-.557-.107-1.157-.664-1.35-.15-.043-.257-.086-.407-.064zM0 6.434v8.572h2.143V6.434H0z\" fill=\"#fff\" fill-rule=\"evenodd\"></path></svg><span class=\"_3c3Px5\">3</span></div><div class=\"_1LmwT9 pkR4jH\"><svg class=\"skCrcq pkR4jH\" height=\"15\" width=\"20\" xmlns=\"http://www.w3.org/2000/svg\"><path class=\"_1LIt4y\" d=\"M9.58.006c-.41.043-.794.32-1.01.728-.277.557-2.334 4.693-2.74 5.1-.41.407-.944.6-1.544.6v8.572h7.5c.45 0 .835-.28 1.007-.665 0 0 2.207-6.234 2.207-6.834 0-.6-.47-1.072-1.07-1.072h-3.216c-.6 0-1.07-.535-1.07-1.07 0-.537.835-3.387 1.006-3.944.17-.557-.107-1.157-.664-1.35-.15-.043-.257-.086-.407-.064zM0 6.434v8.572h2.143V6.434H0z\" fill=\"#fff\" fill-rule=\"evenodd\"></path></svg><span class=\"_3c3Px5\">1</span></div></div><div class=\"_2bmov8\"><svg class=\"_2UvOBb\" height=\"11\" viewbox=\"0 0 16 27\" width=\"6\" xmlns=\"http://www.w3.org/2000/svg\"><path class=\"_2aPE6f\" d=\"M16 23.207L6.11 13.161 16 3.093 12.955 0 0 13.161l12.955 13.161z\" fill=\"#fff\"></path></svg><div class=\"_3E8aIl _38dCuf\"><div class=\"_3XCI6U\"><a href=\"/reviews/MOBGGHCFVVZ3RFDS:4?reviewId=4f1fc87f-64be-47ad-9fb1-26ad04e2a7ff\"><span>Permalink</span></a></div><div class=\"_3XCI6U _2b2z-j\"><span>Report Abuse</span></div></div></div></div></div></div></div></div></div></div><div class=\"_1AtVbE col-12-12\"><div><div class=\"_2MImiq _1Qnn1K\"><span>Page 1 of 6</span><nav class=\"yFHi8N\"><a class=\"ge-49M _2Kfbh8\" href=\"/samsung-galaxy-m13-stardust-brown-128-gb/product-reviews/itmb1902f24653db?pid=MOBGHDXFGQA4TXBZ&amp;lid=LSTMOBGHDXFGQA4TXBZVOB3YT&amp;marketplace=FLIPKART&amp;page=1\">1</a><a class=\"ge-49M\" href=\"/samsung-galaxy-m13-stardust-brown-128-gb/product-reviews/itmb1902f24653db?pid=MOBGHDXFGQA4TXBZ&amp;lid=LSTMOBGHDXFGQA4TXBZVOB3YT&amp;marketplace=FLIPKART&amp;page=2\">2</a><a class=\"ge-49M\" href=\"/samsung-galaxy-m13-stardust-brown-128-gb/product-reviews/itmb1902f24653db?pid=MOBGHDXFGQA4TXBZ&amp;lid=LSTMOBGHDXFGQA4TXBZVOB3YT&amp;marketplace=FLIPKART&amp;page=3\">3</a><a class=\"ge-49M\" href=\"/samsung-galaxy-m13-stardust-brown-128-gb/product-reviews/itmb1902f24653db?pid=MOBGHDXFGQA4TXBZ&amp;lid=LSTMOBGHDXFGQA4TXBZVOB3YT&amp;marketplace=FLIPKART&amp;page=4\">4</a><a class=\"ge-49M\" href=\"/samsung-galaxy-m13-stardust-brown-128-gb/product-reviews/itmb1902f24653db?pid=MOBGHDXFGQA4TXBZ&amp;lid=LSTMOBGHDXFGQA4TXBZVOB3YT&amp;marketplace=FLIPKART&amp;page=5\">5</a><a class=\"ge-49M\" href=\"/samsung-galaxy-m13-stardust-brown-128-gb/product-reviews/itmb1902f24653db?pid=MOBGHDXFGQA4TXBZ&amp;lid=LSTMOBGHDXFGQA4TXBZVOB3YT&amp;marketplace=FLIPKART&amp;page=6\">6</a><a class=\"_1LKTO3\" href=\"/samsung-galaxy-m13-stardust-brown-128-gb/product-reviews/itmb1902f24653db?pid=MOBGHDXFGQA4TXBZ&amp;lid=LSTMOBGHDXFGQA4TXBZVOB3YT&amp;marketplace=FLIPKART&amp;page=2\"><span>Next</span></a></nav><span class=\"_22Tduf\"></span></div></div></div></div></div><div class=\"_39SDPR\"></div></div></div><footer class=\"_3voSl0\"><div class=\"_3rc_xQ\"><div class=\"row\"><div class=\"col gu12 _8Qljeg\"></div></div><div><div class=\"_2WErco row\"><div class=\"_2Brcj4\"><div class=\"_3-dnWo\">ABOUT</div><a class=\"_1arVWX\" href=\"/helpcentre?otracker=undefined_footer_navlinks\">Contact Us</a><a class=\"_1arVWX\" href=\"https://corporate.flipkart.net/corporate-home\">About Us</a><a class=\"_1arVWX\" href=\"https://www.flipkartcareers.com/?otracker=undefined_footer_navlinks\">Careers</a><a class=\"_1arVWX\" href=\"http://stories.flipkart.com/?otracker=undefined_footer_navlinks\">Flipkart Stories</a><a class=\"_1arVWX\" href=\"/s/press?otracker=undefined_footer_navlinks\">Press</a><a class=\"_1arVWX\" href=\"https://www.flipkartwholesale.com/?otracker=undefined_footer_navlinks\" rel=\"noopener noreferrer\" target=\"_blank\">Flipkart Wholesale</a><a class=\"_1arVWX\" href=\"/corporate-information\">Corporate Information</a></div><div class=\"_2Brcj4\"><div class=\"_3-dnWo\">HELP</div><a class=\"_1arVWX\" href=\"/pages/payments\">Payments</a><a class=\"_1arVWX\" href=\"/pages/shipping\">Shipping</a><a class=\"_1arVWX\" href=\"/helpcentre?catalog=55c9c6edb000002e002c1701&amp;view=CATALOG\">Cancellation &amp; Returns</a><a class=\"_1arVWX\" href=\"/helpcentre?catalog=55c9c8e2b0000023002c1702&amp;view=CATALOG\">FAQ</a><a class=\"_1arVWX\" href=\"https://seller.flipkart.com/fiv?otracker=undefined_footer_navlinks\">Report Infringement</a></div><div class=\"_2Brcj4\"><div class=\"_3-dnWo\">CONSUMER POLICY</div><a class=\"_1arVWX\" href=\"/pages/returnpolicy?otracker=undefined_footer_navlinks\">Cancellation &amp; Returns</a><a class=\"_1arVWX\" href=\"/pages/terms?otracker=undefined_footer_navlinks\">Terms Of Use</a><a class=\"_1arVWX\" href=\"/pages/paymentsecurity?otracker=undefined_footer_navlinks\">Security</a><a class=\"_1arVWX\" href=\"/pages/privacypolicy?otracker=undefined_footer_navlinks\">Privacy</a><a class=\"_1arVWX\" href=\"/sitemap?otracker=undefined_footer_navlinks\">Sitemap</a><a class=\"_1arVWX\" href=\"/pages/grievance-redressal-mechanism?otracker=undefined_footer_navlinks\">Grievance Redressal</a><a class=\"_1arVWX\" href=\"/pages/ewaste-compliance-tnc?otracker=undefined_footer_navlinks\">EPR Compliance</a></div><div class=\"_2Brcj4\"><div class=\"_3-dnWo\">SOCIAL</div><a class=\"_1arVWX\" href=\"https://www.facebook.com/flipkart\">Facebook</a><a class=\"_1arVWX\" href=\"https://www.twitter.com/flipkart\">Twitter</a><a class=\"_1arVWX\" href=\"https://www.youtube.com/flipkart\">YouTube</a></div><div class=\"_2Brcj4 address\"><div class=\"_3JHi0r\"><div class=\"_3-dnWo\"><span>Mail Us:</span></div><div class=\"_1U1qnR\"><div class=\"_1LJS6T\"><div class=\"_2NKhZn _1U1qnR\"><p>Flipkart Internet Private Limited, </p>\n",
       "<p> Buildings Alyssa, Begonia &amp; </p>\n",
       "<p> Clove Embassy Tech Village, </p>\n",
       "<p> Outer Ring Road, Devarabeesanahalli Village, </p>\n",
       "<p> Bengaluru, 560103, </p>\n",
       "<p> Karnataka, India</p>\n",
       "</div></div></div></div></div><div class=\"_2Brcj4 address\"><div class=\"_3IT4e6\"><div class=\"_3-dnWo\"><span>Registered Office Address:</span></div><div class=\"_1U1qnR\"><div class=\"_1LJS6T\"><div class=\"_2NKhZn _1U1qnR\"><p>Flipkart Internet Private Limited, </p>\n",
       "<p> Buildings Alyssa, Begonia &amp; </p>\n",
       "<p> Clove Embassy Tech Village, </p>\n",
       "<p> Outer Ring Road, Devarabeesanahalli Village, </p>\n",
       "<p> Bengaluru, 560103, </p>\n",
       "<p> Karnataka, India </p>\n",
       "<p> CIN : U51109KA2012PTC066107 </p>\n",
       "<p> Telephone: <a href=\"tel:044-45614700\">044-45614700</a></p>\n",
       "</div></div></div></div></div></div><div><div class=\"_2uz0vJ\"><div><img src=\"data:image/svg+xml;base64,PHN2ZyB4bWxucz0iaHR0cDovL3d3dy53My5vcmcvMjAwMC9zdmciIHdpZHRoPSIxNiIgaGVpZ2h0PSIxNSIgdmlld0JveD0iMCAwIDE2IDE1Ij4KICAgIDxkZWZzPgogICAgICAgIDxsaW5lYXJHcmFkaWVudCBpZD0iYSIgeDE9IjAlIiB4Mj0iODYuODc2JSIgeTE9IjAlIiB5Mj0iODAuMjAyJSI+CiAgICAgICAgICAgIDxzdG9wIG9mZnNldD0iMCUiIHN0b3AtY29sb3I9IiNGRkQ4MDAiLz4KICAgICAgICAgICAgPHN0b3Agb2Zmc2V0PSIxMDAlIiBzdG9wLWNvbG9yPSIjRkZBRjAwIi8+CiAgICAgICAgPC9saW5lYXJHcmFkaWVudD4KICAgIDwvZGVmcz4KICAgIDxnIGZpbGw9Im5vbmUiIGZpbGwtcnVsZT0iZXZlbm9kZCI+CiAgICAgICAgPHBhdGggZD0iTS0yLTJoMjB2MjBILTJ6Ii8+CiAgICAgICAgPHBhdGggZmlsbD0idXJsKCNhKSIgZmlsbC1ydWxlPSJub256ZXJvIiBkPSJNMTUuOTMgNS42MTRoLTIuOTQ4VjQuMTRjMC0uODE4LS42NTUtMS40NzMtMS40NzMtMS40NzNIOC41NmMtLjgxNyAwLTEuNDczLjY1NS0xLjQ3MyAxLjQ3M3YxLjQ3NEg0LjE0Yy0uODE4IDAtMS40NjYuNjU2LTEuNDY2IDEuNDc0bC0uMDA3IDguMTA1YzAgLjgxOC42NTUgMS40NzQgMS40NzMgMS40NzRoMTEuNzljLjgxOCAwIDEuNDc0LS42NTYgMS40NzQtMS40NzRWNy4wODhjMC0uODE4LS42NTYtMS40NzQtMS40NzQtMS40NzR6bS00LjQyMSAwSDguNTZWNC4xNGgyLjk0OHYxLjQ3NHoiIHRyYW5zZm9ybT0idHJhbnNsYXRlKC0yIC0yKSIvPgogICAgPC9nPgo8L3N2Zz4K\"/><a href=\"https://seller.flipkart.com/?utm_source=fkwebsite&amp;utm_medium=websitedirect\"><span class=\"hDTmm5\">Become a Seller</span></a></div><div><img src=\"data:image/svg+xml;base64,PHN2ZyB4bWxucz0iaHR0cDovL3d3dy53My5vcmcvMjAwMC9zdmciIHdpZHRoPSIxNSIgaGVpZ2h0PSIxNSIgdmlld0JveD0iMCAwIDE1IDE1Ij4KICAgIDxkZWZzPgogICAgICAgIDxsaW5lYXJHcmFkaWVudCBpZD0iYSIgeDE9IjAlIiB4Mj0iODYuODc2JSIgeTE9IjAlIiB5Mj0iODAuMjAyJSI+CiAgICAgICAgICAgIDxzdG9wIG9mZnNldD0iMCUiIHN0b3AtY29sb3I9IiNGRkQ4MDAiLz4KICAgICAgICAgICAgPHN0b3Agb2Zmc2V0PSIxMDAlIiBzdG9wLWNvbG9yPSIjRkZBRjAwIi8+CiAgICAgICAgPC9saW5lYXJHcmFkaWVudD4KICAgIDwvZGVmcz4KICAgIDxnIGZpbGw9Im5vbmUiIGZpbGwtcnVsZT0iZXZlbm9kZCI+CiAgICAgICAgPHBhdGggZD0iTS0zLTNoMjB2MjBILTN6Ii8+CiAgICAgICAgPHBhdGggZmlsbD0idXJsKCNhKSIgZmlsbC1ydWxlPSJub256ZXJvIiBkPSJNMTAuNDkyIDNDNi4zNTMgMyAzIDYuMzYgMyAxMC41YzAgNC4xNCAzLjM1MyA3LjUgNy40OTIgNy41QzE0LjY0IDE4IDE4IDE0LjY0IDE4IDEwLjUgMTggNi4zNiAxNC42NCAzIDEwLjQ5MiAzem0zLjE4IDEyTDEwLjUgMTMuMDg4IDcuMzI3IDE1bC44NC0zLjYwN0w1LjM3IDguOTdsMy42OS0uMzE1TDEwLjUgNS4yNWwxLjQ0IDMuMzk4IDMuNjkuMzE1LTIuNzk4IDIuNDIyLjg0IDMuNjE1eiIgdHJhbnNmb3JtPSJ0cmFuc2xhdGUoLTMgLTMpIi8+CiAgICA8L2c+Cjwvc3ZnPgo=\"/><a href=\"https://brands.flipkart.com\"><span class=\"hDTmm5\">Advertise</span></a></div><div><img src=\"data:image/svg+xml;base64,PHN2ZyB4bWxucz0iaHR0cDovL3d3dy53My5vcmcvMjAwMC9zdmciIHdpZHRoPSIxOCIgaGVpZ2h0PSIxNyIgdmlld0JveD0iMCAwIDE4IDE3Ij4KICAgIDxkZWZzPgogICAgICAgIDxsaW5lYXJHcmFkaWVudCBpZD0iYSIgeDE9IjAlIiB4Mj0iODYuODc2JSIgeTE9IjAlIiB5Mj0iODAuMjAyJSI+CiAgICAgICAgICAgIDxzdG9wIG9mZnNldD0iMCUiIHN0b3AtY29sb3I9IiNGRkQ4MDAiLz4KICAgICAgICAgICAgPHN0b3Agb2Zmc2V0PSIxMDAlIiBzdG9wLWNvbG9yPSIjRkZBRjAwIi8+CiAgICAgICAgPC9saW5lYXJHcmFkaWVudD4KICAgIDwvZGVmcz4KICAgIDxnIGZpbGw9Im5vbmUiIGZpbGwtcnVsZT0iZXZlbm9kZCI+CiAgICAgICAgPHBhdGggZD0iTS0xLTFoMjB2MjBILTF6Ii8+CiAgICAgICAgPHBhdGggZmlsbD0idXJsKCNhKSIgZmlsbC1ydWxlPSJub256ZXJvIiBkPSJNMTYuNjY3IDVIMTQuODVjLjA5Mi0uMjU4LjE1LS41NDIuMTUtLjgzM2EyLjQ5NyAyLjQ5NyAwIDAgMC00LjU4My0xLjM3NUwxMCAzLjM1bC0uNDE3LS41NjdBMi41MSAyLjUxIDAgMCAwIDcuNSAxLjY2N2EyLjQ5NyAyLjQ5NyAwIDAgMC0yLjUgMi41YzAgLjI5MS4wNTguNTc1LjE1LjgzM0gzLjMzM2MtLjkyNSAwLTEuNjU4Ljc0Mi0xLjY1OCAxLjY2N2wtLjAwOCA5LjE2NkExLjY2IDEuNjYgMCAwIDAgMy4zMzMgMTcuNWgxMy4zMzRhMS42NiAxLjY2IDAgMCAwIDEuNjY2LTEuNjY3VjYuNjY3QTEuNjYgMS42NiAwIDAgMCAxNi42NjcgNXptMCA2LjY2N0gzLjMzM3YtNWg0LjIzNEw1LjgzMyA5LjAyNWwxLjM1Ljk3NSAxLjk4NC0yLjdMMTAgNi4xNjdsLjgzMyAxLjEzMyAxLjk4NCAyLjcgMS4zNS0uOTc1LTEuNzM0LTIuMzU4aDQuMjM0djV6IiB0cmFuc2Zvcm09InRyYW5zbGF0ZSgtMSAtMSkiLz4KICAgIDwvZz4KPC9zdmc+Cg==\"/><a href=\"/the-gift-card-store?otracker=undefined_footer_footer_navlinks\"><span class=\"hDTmm5\">Gift Cards</span></a></div><div><img src=\"data:image/svg+xml;base64,PHN2ZyB4bWxucz0iaHR0cDovL3d3dy53My5vcmcvMjAwMC9zdmciIHdpZHRoPSIxNSIgaGVpZ2h0PSIxNSIgdmlld0JveD0iMCAwIDE1IDE1Ij4KICAgIDxkZWZzPgogICAgICAgIDxsaW5lYXJHcmFkaWVudCBpZD0iYSIgeDE9IjAlIiB4Mj0iODYuODc2JSIgeTE9IjAlIiB5Mj0iODAuMjAyJSI+CiAgICAgICAgICAgIDxzdG9wIG9mZnNldD0iMCUiIHN0b3AtY29sb3I9IiNGRkQ4MDAiLz4KICAgICAgICAgICAgPHN0b3Agb2Zmc2V0PSIxMDAlIiBzdG9wLWNvbG9yPSIjRkZBRjAwIi8+CiAgICAgICAgPC9saW5lYXJHcmFkaWVudD4KICAgIDwvZGVmcz4KICAgIDxnIGZpbGw9Im5vbmUiIGZpbGwtcnVsZT0iZXZlbm9kZCI+CiAgICAgICAgPHBhdGggZD0iTS0yLTNoMjB2MjBILTJ6Ii8+CiAgICAgICAgPHBhdGggZmlsbD0idXJsKCNhKSIgZmlsbC1ydWxlPSJub256ZXJvIiBkPSJNOS41IDNDNS4zNiAzIDIgNi4zNiAyIDEwLjUgMiAxNC42NCA1LjM2IDE4IDkuNSAxOGM0LjE0IDAgNy41LTMuMzYgNy41LTcuNUMxNyA2LjM2IDEzLjY0IDMgOS41IDN6bS43NSAxMi43NWgtMS41di0xLjVoMS41djEuNXptMS41NTMtNS44MTNsLS42NzYuNjljLS41NC41NDgtLjg3Ny45OTgtLjg3NyAyLjEyM2gtMS41di0uMzc1YzAtLjgyNS4zMzgtMS41NzUuODc3LTIuMTIzbC45My0uOTQ1Yy4yNzgtLjI3LjQ0My0uNjQ1LjQ0My0xLjA1NyAwLS44MjUtLjY3NS0xLjUtMS41LTEuNVM4IDcuNDI1IDggOC4yNUg2LjVhMyAzIDAgMSAxIDYgMGMwIC42Ni0uMjcgMS4yNi0uNjk3IDEuNjg4eiIgdHJhbnNmb3JtPSJ0cmFuc2xhdGUoLTIgLTMpIi8+CiAgICA8L2c+Cjwvc3ZnPgo=\"/><a href=\"/helpcentre?otracker=undefined_footer_footer_navlinks\"><span class=\"hDTmm5\">Help Center</span></a></div><span class=\"z3ht-w\">© 2007-<!-- -->2023<!-- --> <span>Flipkart.com</span></span><img src=\"//static-assets-web.flixcart.com/fk-p-linchpin-web/fk-cp-zion/img/payment-method_69e7ec.svg\"/></div></div></div></div></footer><div class=\"_1EcK2J _38JCdA\"><div class=\"bra6U8\"><svg class=\"_2TdLiZ\" height=\"27\" viewbox=\"0 0 16 27\" width=\"16\" xmlns=\"http://www.w3.org/2000/svg\"><path class=\"_3ZKfA2\" d=\"M16 23.207L6.11 13.161 16 3.093 12.955 0 0 13.161l12.955 13.161z\" fill=\"#fff\"></path></svg><span>Back to top</span></div></div></div></div> <script id=\"jsonLD\" nonce=\"17476920193020823797\" type=\"application/ld+json\">{}</script> <script id=\"jsonLD\" nonce=\"17476920193020823797\" type=\"application/ld+json\">{}</script><script nonce=\"17476920193020823797\" type=\"application/ld+json\">{\n",
       "    \"@context\": \"http://schema.org\",\n",
       "    \"@type\": \"WebSite\",\n",
       "    \"url\": \"http://www.flipkart.com/\",\n",
       "    \"potentialAction\": [{\n",
       "        \"@type\": \"SearchAction\",\n",
       "        \"target\": \"http://www.flipkart.com/search?q={search_term_string}\",\n",
       "        \"query-input\": \"required name=search_term_string\"\n",
       "        },{\n",
       "        \"@type\": \"SearchAction\",\n",
       "        \"target\": \"android-app://com.flipkart.android/flipkart/de_sq_seg_-search.flipkart.com-_{search_term_string}\",\n",
       "        \"query-input\": \"required name=search_term_string\"\n",
       "    }]\n",
       "}</script><script id=\"is_script\" nonce=\"17476920193020823797\">window.__INITIAL_STATE__ = {};</script> <link data-chunk=\"NavMenu\" href=\"//static-assets-web.flixcart.com/fk-p-linchpin-web/fk-cp-zion/css/NavMenu.chunk.10ffe7.css\" rel=\"stylesheet\"/> <script id=\"__LOADABLE_REQUIRED_CHUNKS__\" type=\"application/json\">[127]</script><script id=\"__LOADABLE_REQUIRED_CHUNKS___ext\" type=\"application/json\">{\"namedChunks\":[\"NavMenu\"]}</script>\n",
       "<script async=\"\" data-chunk=\"NavMenu\" src=\"//static-assets-web.flixcart.com/fk-p-linchpin-web/fk-cp-zion/js/NavMenu.chunk.0a0a82be.js\"></script><script nonce=\"17476920193020823797\">window.omniture={tpv:[],tl:[]};window.omniture.trackPageView=function(){window.omniture.tpv.push(arguments)};window.omniture.trackLink=function(){window.omniture.tl.push(arguments)}\n",
       "\n",
       "    if(window.location.host === 'www.flipkart.com' || /\\.store\\.flipkart\\.com/i.test(window.location.host)){\n",
       "        window.s_account = \"flipkart-prd\"; //omniture account id\n",
       "    }else{\n",
       "        window.s_account = \"flipkart-prd-test\";\n",
       "    }\n",
       "    window.s_isDesktop = true;</script><script nonce=\"17476920193020823797\">function isMobile(){\n",
       "\t\tif (!!(navigator.userAgentData && navigator.userAgentData.mobile) || navigator.userAgent.indexOf(\"Mobile\") !== -1){\n",
       "\t\t\treturn true;\n",
       "\t\t}\n",
       "\t\telse {\n",
       "\t\t\treturn false;\n",
       "\t\t}\n",
       "\t}\n",
       "\n",
       "\tif ('serviceWorker' in navigator && !isMobile()) {\n",
       "\t\tnavigator.serviceWorker.register('/sw.js').then(function(registration) {\n",
       "\t\t\tconsole.log('ServiceWorker registration successful with scope: ', registration.scope);\n",
       "\t\t\tnavigator.onLine && navigator.serviceWorker.controller && navigator.serviceWorker.controller.postMessage('BANDWIDTH_COMPUTE');\n",
       "\t\t\tnavigator.serviceWorker.addEventListener('message', function (event) {\n",
       "\t\t\t\ttry {\n",
       "\t\t\t\t\tconst bandwidthData = JSON.parse(event.data);\n",
       "\t\t\t\t\tif (bandwidthData && bandwidthData.data) {\n",
       "\t\t\t\t\t\twindow.bandwidth = bandwidthData.data.downlink + '_' + bandwidthData.data.computeMethod + '_' + bandwidthData.data.effectiveType + '_' + bandwidthData.data.type;\n",
       "\t\t\t\t\t}\n",
       "\t\t\t\t}catch(err) {\n",
       "\t\t\t\t\tconsole.error('JSON.parse failed:', err);\n",
       "\t\t\t\t}\n",
       "\t\t\t});\n",
       "\t\t})\n",
       "\t\t.catch(function(err) {\n",
       "\t\t\tconsole.error('ServiceWorker registration failed: ', err);\n",
       "\t\t});\n",
       "\t} else if('serviceWorker' in navigator && isMobile()){\n",
       "        navigator.serviceWorker.getRegistration().then(function(registration) {\n",
       "            var serviceWorkerUnregistered=false;\n",
       "            if(registration) {\n",
       "                registration.unregister();\n",
       "                serviceWorkerUnregistered=true;\n",
       "            }\n",
       "            serviceWorkerUnregistered && window.location.reload();\n",
       "        });\n",
       "    }</script> <script async=\"\" defer=\"defer\" id=\"omni_script\" nonce=\"17476920193020823797\" src=\"///www/linchpin/batman-returns/omni/omni16.js\"></script> <script nonce=\"17476920193020823797\">window._pxAppId = 'PXgNtTli3A';</script><script async=\"\" nonce=\"17476920193020823797\" src=\"///px/gNtTli3A/init.js\"></script></body></html>"
      ]
     },
     "execution_count": 152,
     "metadata": {},
     "output_type": "execute_result"
    }
   ],
   "source": [
    "prodRes = requests.get(reviewpage)\n",
    "prodRes.encoding='utf-8'\n",
    "prod_html = bs(prodRes.text, \"html.parser\")\n",
    "prod_html"
   ]
  },
  {
   "cell_type": "code",
   "execution_count": 149,
   "metadata": {},
   "outputs": [],
   "source": [
    "reviews_result ={\"name\":[],\"price\":[],\"rating\":[],\"title\":[],\"full_message\":[]}"
   ]
  },
  {
   "cell_type": "code",
   "execution_count": 153,
   "metadata": {},
   "outputs": [
    {
     "name": "stdout",
     "output_type": "stream",
     "text": [
      "<nav class=\"yFHi8N\"><a class=\"ge-49M _2Kfbh8\" href=\"/samsung-galaxy-m13-stardust-brown-128-gb/product-reviews/itmb1902f24653db?pid=MOBGHDXFGQA4TXBZ&amp;lid=LSTMOBGHDXFGQA4TXBZVOB3YT&amp;marketplace=FLIPKART&amp;page=1\">1</a><a class=\"ge-49M\" href=\"/samsung-galaxy-m13-stardust-brown-128-gb/product-reviews/itmb1902f24653db?pid=MOBGHDXFGQA4TXBZ&amp;lid=LSTMOBGHDXFGQA4TXBZVOB3YT&amp;marketplace=FLIPKART&amp;page=2\">2</a><a class=\"ge-49M\" href=\"/samsung-galaxy-m13-stardust-brown-128-gb/product-reviews/itmb1902f24653db?pid=MOBGHDXFGQA4TXBZ&amp;lid=LSTMOBGHDXFGQA4TXBZVOB3YT&amp;marketplace=FLIPKART&amp;page=3\">3</a><a class=\"ge-49M\" href=\"/samsung-galaxy-m13-stardust-brown-128-gb/product-reviews/itmb1902f24653db?pid=MOBGHDXFGQA4TXBZ&amp;lid=LSTMOBGHDXFGQA4TXBZVOB3YT&amp;marketplace=FLIPKART&amp;page=4\">4</a><a class=\"ge-49M\" href=\"/samsung-galaxy-m13-stardust-brown-128-gb/product-reviews/itmb1902f24653db?pid=MOBGHDXFGQA4TXBZ&amp;lid=LSTMOBGHDXFGQA4TXBZVOB3YT&amp;marketplace=FLIPKART&amp;page=5\">5</a><a class=\"ge-49M\" href=\"/samsung-galaxy-m13-stardust-brown-128-gb/product-reviews/itmb1902f24653db?pid=MOBGHDXFGQA4TXBZ&amp;lid=LSTMOBGHDXFGQA4TXBZVOB3YT&amp;marketplace=FLIPKART&amp;page=6\">6</a><a class=\"_1LKTO3\" href=\"/samsung-galaxy-m13-stardust-brown-128-gb/product-reviews/itmb1902f24653db?pid=MOBGHDXFGQA4TXBZ&amp;lid=LSTMOBGHDXFGQA4TXBZVOB3YT&amp;marketplace=FLIPKART&amp;page=2\"><span>Next</span></a></nav>\n"
     ]
    }
   ],
   "source": [
    "l1 =prod_html.find_all(\"div\",{\"class\",\"_2MImiq _1Qnn1K\"})[0].nav\n",
    "print(l1)\n",
    "del l1[-1]"
   ]
  },
  {
   "cell_type": "code",
   "execution_count": 1,
   "metadata": {},
   "outputs": [],
   "source": [
    "from bs4 import BeautifulSoup as bs\n",
    "from urllib.request import urlopen as uReq\n",
    "import requests"
   ]
  },
  {
   "cell_type": "code",
   "execution_count": 46,
   "metadata": {},
   "outputs": [
    {
     "name": "stdout",
     "output_type": "stream",
     "text": [
      "flipkart_url https://www.flipkart.com/search?q=laptop\n",
      "productLink https://www.flipkart.com/primebook-4g-android-based-mediatek-mt8788-4-gb-64-gb-emmc-storage-prime-os-thin-light-laptop/p/itmc0e03bf12ddbc?pid=COMGH2NKH3PBYNPM&lid=LSTCOMGH2NKH3PBYNPMXKYFW7&marketplace=FLIPKART&q=laptop&store=6bo%2Fb5g&srno=s_1_2&otracker=search&fm=organic&iid=en_9vfyv4DYN7JKKLLdsGiCPQobxzrPJW1hvaSId6Fb81Yg1ATvhrxMQWVdMwTl8D-TnLy31rTwk87M5UiXdQjtGw%3D%3D&ppt=None&ppn=None&ssid=9sguj3y1340000001690871217790&qH=312f91285e048e09\n",
      "reviewpage https://www.flipkart.com/primebook-4g-android-based-mediatek-mt8788-4-gb-64-gb-emmc-storage-prime-os-thin-light-laptop/product-reviews/itmc0e03bf12ddbc?pid=COMGH2NKH3PBYNPM&lid=LSTCOMGH2NKH3PBYNPMXKYFW7&marketplace=FLIPKART\n",
      "review_page1 https://www.flipkart.com/primebook-4g-android-based-mediatek-mt8788-4-gb-64-gb-emmc-storage-prime-os-thin-light-laptop/product-reviews/itmc0e03bf12ddbc?pid=COMGH2NKH3PBYNPM&lid=LSTCOMGH2NKH3PBYNPMXKYFW7&marketplace=FLIPKART&page=1\n",
      "review_page1 https://www.flipkart.com/primebook-4g-android-based-mediatek-mt8788-4-gb-64-gb-emmc-storage-prime-os-thin-light-laptop/product-reviews/itmc0e03bf12ddbc?pid=COMGH2NKH3PBYNPM&lid=LSTCOMGH2NKH3PBYNPMXKYFW7&marketplace=FLIPKART&page=2\n",
      "review_page1 https://www.flipkart.com/primebook-4g-android-based-mediatek-mt8788-4-gb-64-gb-emmc-storage-prime-os-thin-light-laptop/product-reviews/itmc0e03bf12ddbc?pid=COMGH2NKH3PBYNPM&lid=LSTCOMGH2NKH3PBYNPMXKYFW7&marketplace=FLIPKART&page=3\n",
      "review_page1 https://www.flipkart.com/primebook-4g-android-based-mediatek-mt8788-4-gb-64-gb-emmc-storage-prime-os-thin-light-laptop/product-reviews/itmc0e03bf12ddbc?pid=COMGH2NKH3PBYNPM&lid=LSTCOMGH2NKH3PBYNPMXKYFW7&marketplace=FLIPKART&page=4\n",
      "review_page1 https://www.flipkart.com/primebook-4g-android-based-mediatek-mt8788-4-gb-64-gb-emmc-storage-prime-os-thin-light-laptop/product-reviews/itmc0e03bf12ddbc?pid=COMGH2NKH3PBYNPM&lid=LSTCOMGH2NKH3PBYNPMXKYFW7&marketplace=FLIPKART&page=5\n",
      "review_page1 https://www.flipkart.com/primebook-4g-android-based-mediatek-mt8788-4-gb-64-gb-emmc-storage-prime-os-thin-light-laptop/product-reviews/itmc0e03bf12ddbc?pid=COMGH2NKH3PBYNPM&lid=LSTCOMGH2NKH3PBYNPMXKYFW7&marketplace=FLIPKART&page=6\n",
      "review_page1 https://www.flipkart.com/primebook-4g-android-based-mediatek-mt8788-4-gb-64-gb-emmc-storage-prime-os-thin-light-laptop/product-reviews/itmc0e03bf12ddbc?pid=COMGH2NKH3PBYNPM&lid=LSTCOMGH2NKH3PBYNPMXKYFW7&marketplace=FLIPKART&page=7\n",
      "review_page1 https://www.flipkart.com/primebook-4g-android-based-mediatek-mt8788-4-gb-64-gb-emmc-storage-prime-os-thin-light-laptop/product-reviews/itmc0e03bf12ddbc?pid=COMGH2NKH3PBYNPM&lid=LSTCOMGH2NKH3PBYNPMXKYFW7&marketplace=FLIPKART&page=8\n",
      "review_page1 https://www.flipkart.com/primebook-4g-android-based-mediatek-mt8788-4-gb-64-gb-emmc-storage-prime-os-thin-light-laptop/product-reviews/itmc0e03bf12ddbc?pid=COMGH2NKH3PBYNPM&lid=LSTCOMGH2NKH3PBYNPMXKYFW7&marketplace=FLIPKART&page=9\n",
      "review_page1 https://www.flipkart.com/primebook-4g-android-based-mediatek-mt8788-4-gb-64-gb-emmc-storage-prime-os-thin-light-laptop/product-reviews/itmc0e03bf12ddbc?pid=COMGH2NKH3PBYNPM&lid=LSTCOMGH2NKH3PBYNPMXKYFW7&marketplace=FLIPKART&page=10\n"
     ]
    }
   ],
   "source": [
    "reviews_result ={\"name\":[],\"price\":[],\"rating\":[],\"title\":[],\"full_message\":[]}\n",
    "searchString = \"laptop\"\n",
    "searchString=searchString.replace(\" \",\"\")\n",
    "flipkart_url = \"https://www.flipkart.com/search?q=\" + searchString\n",
    "print(\"flipkart_url\" , flipkart_url)\n",
    "uClient = uReq(flipkart_url)\n",
    "flipkartPage = uClient.read()\n",
    "uClient.close()\n",
    "flipkart_html = bs(flipkartPage, \"html.parser\")\n",
    "bigboxes = flipkart_html.findAll(\"div\", {\"class\": \"_1AtVbE col-12-12\"})\n",
    "del bigboxes[0:3]\n",
    "box =bigboxes[0]\n",
    "productLink = \"https://www.flipkart.com\" + box.div.div.div.a['href']\n",
    "print(\"productLink\" , productLink)\n",
    "prodRes = requests.get(productLink)\n",
    "prodRes.encoding='utf-8'\n",
    "prod_html = bs(prodRes.text, \"html.parser\")\n",
    "reviews =prod_html.find_all('div',{'class','col JOpGWq'})\n",
    "reviews=reviews[0].find_all('a',{\"class\":\"\"})[-1]\n",
    "reviewpage=\"https://www.flipkart.com\"+reviews[\"href\"]\n",
    "print(\"reviewpage\",reviewpage)\n",
    "prodRes = requests.get(reviewpage)\n",
    "prodRes.encoding='utf-8'\n",
    "prod_html = bs(prodRes.text, \"html.parser\")\n",
    "all_review =prod_html.find_all(\"div\",{\"class\",\"_2MImiq _1Qnn1K\"})[0].nav\n",
    "del all_review[-1]\n",
    "product_review_page =all_review.find_all(\"a\",{\"class\":\"ge-49M\"})\n",
    "for page in product_review_page:\n",
    "   c=0\n",
    "   review_page =( \"https://www.flipkart.com\"+page[\"href\"])\n",
    "   c+=1\n",
    "   print(f\"review_page{c}\",review_page)\n",
    "   prodRes = requests.get(review_page)\n",
    "   prodRes.encoding='utf-8'\n",
    "   prod_htmls = bs(prodRes.text, \"html.parser\")\n",
    "   reviews=prod_htmls.find_all(\"div\",{\"class\",\"col _2wzgFH K0kLPL\"})\n",
    "   for review in reviews:\n",
    "      reviews_result[\"rating\"].append(review.div.div.text) \n",
    "      reviews_result[\"price\"].append(prod_htmls.find_all(\"div\",{\"class\":\"_30jeq3\"})[0].text) \n",
    "      reviews_result[\"name\"].append(review.find_all(\"p\",{\"class\":\"_2sc7ZR _2V5EHH\"})[0].text) \n",
    "      reviews_result[\"title\"].append(review.div.p.text)\n",
    "      reviews_result[\"full_message\"].append(review.find_all(\"div\",{\"class\":\"t-ZTKy\"})[0].div.div.text)"
   ]
  },
  {
   "cell_type": "code",
   "execution_count": 44,
   "metadata": {},
   "outputs": [
    {
     "data": {
      "text/plain": [
       "100"
      ]
     },
     "execution_count": 44,
     "metadata": {},
     "output_type": "execute_result"
    }
   ],
   "source": [
    "len(reviews_result[\"name\"])"
   ]
  },
  {
   "cell_type": "code",
   "execution_count": 50,
   "metadata": {},
   "outputs": [
    {
     "data": {
      "text/plain": [
       "[[0, 'name'], [1, 'price'], [2, 'rating'], [3, 'title'], [4, 'full_message']]"
      ]
     },
     "execution_count": 50,
     "metadata": {},
     "output_type": "execute_result"
    }
   ],
   "source": [
    "Table = []\n",
    "for key, value in enumerate(reviews_result):    # or .items() in Python 3\n",
    "    temp = []\n",
    "    temp.extend([key,value])  #Note that this will change depending on the structure of your dictionary\n",
    "    Table.append(temp)\n",
    "Table"
   ]
  },
  {
   "cell_type": "code",
   "execution_count": 11,
   "metadata": {},
   "outputs": [
    {
     "data": {
      "text/plain": [
       "'₹1,899'"
      ]
     },
     "execution_count": 11,
     "metadata": {},
     "output_type": "execute_result"
    }
   ],
   "source": [
    "prod_html.find_all(\"div\",{\"class\":\"_30jeq3\"})[0].text"
   ]
  },
  {
   "cell_type": "code",
   "execution_count": 12,
   "metadata": {},
   "outputs": [],
   "source": [
    "h =prod_html.find_all(\"div\",{\"class\",\"col _2wzgFH K0kLPL\"})"
   ]
  },
  {
   "cell_type": "code",
   "execution_count": 13,
   "metadata": {},
   "outputs": [],
   "source": [
    "for i in h:\n",
    "    print(i.div.div.text)"
   ]
  },
  {
   "cell_type": "code",
   "execution_count": 14,
   "metadata": {},
   "outputs": [
    {
     "ename": "IndexError",
     "evalue": "list index out of range",
     "output_type": "error",
     "traceback": [
      "\u001b[1;31m---------------------------------------------------------------------------\u001b[0m",
      "\u001b[1;31mIndexError\u001b[0m                                Traceback (most recent call last)",
      "Cell \u001b[1;32mIn[14], line 1\u001b[0m\n\u001b[1;32m----> 1\u001b[0m h[\u001b[39m0\u001b[39;49m]\u001b[39m.\u001b[39mdiv\u001b[39m.\u001b[39mp\u001b[39m.\u001b[39mtext\n",
      "\u001b[1;31mIndexError\u001b[0m: list index out of range"
     ]
    }
   ],
   "source": [
    "h[0].div.p.text"
   ]
  },
  {
   "cell_type": "code",
   "execution_count": 119,
   "metadata": {},
   "outputs": [
    {
     "name": "stdout",
     "output_type": "stream",
     "text": [
      "Classy product\n",
      "Awesome\n",
      "Must buy!\n",
      "Fair\n",
      "Pretty good\n",
      "Wonderful\n",
      "Brilliant\n",
      "Highly recommended\n",
      "Useless product\n",
      "Terrible product\n"
     ]
    }
   ],
   "source": [
    "for i in h:\n",
    "    print(i.div.p.text)"
   ]
  },
  {
   "cell_type": "code",
   "execution_count": 15,
   "metadata": {},
   "outputs": [
    {
     "ename": "IndexError",
     "evalue": "list index out of range",
     "output_type": "error",
     "traceback": [
      "\u001b[1;31m---------------------------------------------------------------------------\u001b[0m",
      "\u001b[1;31mIndexError\u001b[0m                                Traceback (most recent call last)",
      "Cell \u001b[1;32mIn[15], line 1\u001b[0m\n\u001b[1;32m----> 1\u001b[0m h[\u001b[39m0\u001b[39;49m]\u001b[39m.\u001b[39mfind_all(\u001b[39m\"\u001b[39m\u001b[39mdiv\u001b[39m\u001b[39m\"\u001b[39m,{\u001b[39m\"\u001b[39m\u001b[39mclass\u001b[39m\u001b[39m\"\u001b[39m:\u001b[39m\"\u001b[39m\u001b[39mt-ZTKy\u001b[39m\u001b[39m\"\u001b[39m})[\u001b[39m0\u001b[39m]\u001b[39m.\u001b[39mdiv\u001b[39m.\u001b[39mdiv\u001b[39m.\u001b[39mtext\n",
      "\u001b[1;31mIndexError\u001b[0m: list index out of range"
     ]
    }
   ],
   "source": [
    "h[0].find_all(\"div\",{\"class\":\"t-ZTKy\"})[0].div.div.text"
   ]
  },
  {
   "cell_type": "code",
   "execution_count": 129,
   "metadata": {},
   "outputs": [
    {
     "name": "stdout",
     "output_type": "stream",
     "text": [
      "Best value of phone\n",
      "Super\n",
      "Good Phone\n",
      "Nice\n",
      "Super displayAvg cameraBatary goodOverall good product\n",
      "Good performance and battery life\n",
      "I really like and love this product\n",
      "Very good\n",
      "Don't buy Flipkart product\n",
      "Very poor product by sumsung\n"
     ]
    }
   ],
   "source": [
    "for i in h:\n",
    "    print(i.find_all(\"div\",{\"class\":\"t-ZTKy\"})[0].div.div.text)"
   ]
  },
  {
   "cell_type": "code",
   "execution_count": 139,
   "metadata": {},
   "outputs": [
    {
     "name": "stdout",
     "output_type": "stream",
     "text": [
      "Yatendra kumar\n",
      "Malliga Malliga\n",
      "Pravash Kumar\n",
      "Sujeet Mondal\n",
      "Upendra Kumar\n",
      "Deepak  Dk\n",
      "Atul  tiwari\n",
      "Alok Kumar Pandey \n",
      "Muniyan Ramalingam\n",
      "Nishant  Prakash\n"
     ]
    }
   ],
   "source": [
    "for i in h:\n",
    "    print(i.find_all(\"p\",{\"class\":\"_2sc7ZR _2V5EHH\"})[0].text)"
   ]
  },
  {
   "cell_type": "code",
   "execution_count": 80,
   "metadata": {},
   "outputs": [],
   "source": []
  },
  {
   "cell_type": "code",
   "execution_count": null,
   "metadata": {},
   "outputs": [],
   "source": []
  },
  {
   "cell_type": "code",
   "execution_count": null,
   "metadata": {},
   "outputs": [],
   "source": []
  },
  {
   "cell_type": "code",
   "execution_count": 146,
   "metadata": {},
   "outputs": [
    {
     "data": {
      "text/plain": [
       "'/samsung-galaxy-m13-stardust-brown-128-gb/product-reviews/itmb1902f24653db?pid=MOBGHDXFGQA4TXBZ&lid=LSTMOBGHDXFGQA4TXBZVOB3YT&marketplace=FLIPKART&page=2'"
      ]
     },
     "execution_count": 146,
     "metadata": {},
     "output_type": "execute_result"
    }
   ],
   "source": [
    "(l1.find_all(\"a\",{\"class\":\"ge-49M\"})[1])[\"href\"]"
   ]
  },
  {
   "cell_type": "code",
   "execution_count": 42,
   "metadata": {},
   "outputs": [],
   "source": [
    "l =prod_html.find_all('div',{'class','col JOpGWq'})\n"
   ]
  },
  {
   "cell_type": "code",
   "execution_count": 60,
   "metadata": {},
   "outputs": [
    {
     "data": {
      "text/plain": [
       "<a href=\"/samsung-galaxy-m13-stardust-brown-128-gb/product-reviews/itmb1902f24653db?pid=MOBGHDXFGQA4TXBZ&amp;lid=LSTMOBGHDXFGQA4TXBZVOB3YT&amp;marketplace=FLIPKART\"><div class=\"_3UAT2v _16PBlm\"><span class=\"\">All 54 reviews</span></div></a>"
      ]
     },
     "execution_count": 60,
     "metadata": {},
     "output_type": "execute_result"
    }
   ],
   "source": [
    "l[0].find_all('a',{\"class\":\"\"})[-1]"
   ]
  },
  {
   "cell_type": "code",
   "execution_count": 60,
   "metadata": {},
   "outputs": [
    {
     "name": "stdout",
     "output_type": "stream",
     "text": [
      "[{':': 'kk'}, {'a': 'kk'}]\n"
     ]
    }
   ],
   "source": [
    "l1 =[{\":\":\"kk\"}]\n",
    "l2 =[{\"a\":\"kk\"}]\n",
    "l3 =[{\":\":\"kk\"}]\n",
    "l4 =[{\":\":\"kk\"}]\n",
    "l1.extend(l2)\n",
    "print(l1)"
   ]
  },
  {
   "cell_type": "code",
   "execution_count": null,
   "metadata": {},
   "outputs": [],
   "source": [
    "l =[]\n"
   ]
  }
 ],
 "metadata": {
  "kernelspec": {
   "display_name": "base",
   "language": "python",
   "name": "python3"
  },
  "language_info": {
   "codemirror_mode": {
    "name": "ipython",
    "version": 3
   },
   "file_extension": ".py",
   "mimetype": "text/x-python",
   "name": "python",
   "nbconvert_exporter": "python",
   "pygments_lexer": "ipython3",
   "version": "3.10.9"
  },
  "orig_nbformat": 4
 },
 "nbformat": 4,
 "nbformat_minor": 2
}
